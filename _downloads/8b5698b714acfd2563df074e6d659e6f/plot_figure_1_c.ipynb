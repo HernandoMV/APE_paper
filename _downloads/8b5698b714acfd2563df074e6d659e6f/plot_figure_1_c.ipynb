{
  "cells": [
    {
      "cell_type": "code",
      "execution_count": null,
      "metadata": {
        "collapsed": false
      },
      "outputs": [],
      "source": [
        "%matplotlib inline"
      ]
    },
    {
      "cell_type": "markdown",
      "metadata": {},
      "source": [
        "\n# Figure 1 C\nrecreate figure 1C from the paper\n"
      ]
    },
    {
      "cell_type": "code",
      "execution_count": null,
      "metadata": {
        "collapsed": false
      },
      "outputs": [],
      "source": [
        "# This notebook compares the psychometric performance of mice on the cloud of tones task,\n# according to muscimol injections in the tail of the striatum and dorsomedial striatum\n\n# Commented out IPython magic to ensure Python compatibility.\n# run this on Colab\n# !rm -rf APE_paper/\n# !git clone https://github.com/HernandoMV/APE_paper.git\n# %pip install mouse-behavior-analysis-tools\n# %cd APE_paper/docs/figures_notebooks"
      ]
    },
    {
      "cell_type": "markdown",
      "metadata": {},
      "source": [
        "## 1. Import libraries\nCommented out IPython magic to ensure Python compatibility.\n%load_ext autoreload\n%autoreload 2\n\n"
      ]
    },
    {
      "cell_type": "code",
      "execution_count": null,
      "metadata": {
        "collapsed": false
      },
      "outputs": [],
      "source": [
        "import pandas as pd\nimport urllib.request\nfrom os.path import exists\n\nfrom mouse_behavior_analysis_tools.plot import make_figures\nfrom mouse_behavior_analysis_tools.utils import custom_functions as cuf\nfrom IPython.display import clear_output\n\nimport warnings\nwarnings.filterwarnings('ignore')"
      ]
    },
    {
      "cell_type": "markdown",
      "metadata": {},
      "source": [
        "## 2. Download data\n\n"
      ]
    },
    {
      "cell_type": "code",
      "execution_count": null,
      "metadata": {
        "collapsed": false
      },
      "outputs": [],
      "source": [
        "# download data from server\ndataset_name = 'Muscimol-injections_dataframe.csv'\nurl = \"https://zenodo.org/record/7261639/files/\" + dataset_name\ndataset_path = '../data/' + dataset_name\n# download if data is not there\nif not exists(dataset_path):\n    print('Downloading data...')\n    urllib.request.urlretrieve(url, dataset_path)\nelse:\n    print('Data already in directory')\n# load\nmus_df = pd.read_csv(dataset_path, index_col=0)"
      ]
    },
    {
      "cell_type": "markdown",
      "metadata": {},
      "source": [
        "## 3. Analyse the psychometric performance\n\n"
      ]
    },
    {
      "cell_type": "code",
      "execution_count": null,
      "metadata": {
        "collapsed": false
      },
      "outputs": [],
      "source": [
        "# Analyse the different conditions\nmuscimol_conditions = ['StrTail-bilat-Control', 'StrTail-bilat', 'DMS-bilat']\n# specify the text for the figure (this is the text that will appear in the legend)\ntext_for_figure = ['Saline (str tail)', 'Muscimol (str tail)', 'Muscimol (DMS)']\nPP_array = []\nfor muscond in muscimol_conditions:\n    # process the psychometric performance\n    predictDif, PsyPer, fakePredictions, predictPer, EB = \\\n    cuf.PP_ProcessExperiment(mus_df[mus_df['Muscimol'] == muscond], 500, error_bars='SessionTime')\n    # save to array\n    PP_array.append([predictDif, PsyPer, fakePredictions, predictPer, EB])\n\nclear_output()"
      ]
    },
    {
      "cell_type": "markdown",
      "metadata": {},
      "source": [
        "## 4. Create **Figures 1 C** from the paper\n\n"
      ]
    },
    {
      "cell_type": "code",
      "execution_count": null,
      "metadata": {
        "collapsed": false
      },
      "outputs": [],
      "source": [
        "# prepare colors\ncolorlist = [(0.24715576, 0.49918708, 0.57655991),\n             (160/255, 11/255 , 11/255),\n             (46/255, 122/255 , 11/255)]\n\nfig = make_figures.make_figure_muscimol_psychometric(PP_array, text_for_figure, colorlist)\nfig\n# uncomment here to save the plot\n# data_directory = ''\n# plt.savefig(data_directory + 'Figure1C.pdf',\n#             transparent=True, bbox_inches='tight')"
      ]
    },
    {
      "cell_type": "markdown",
      "metadata": {},
      "source": [
        "## 5. See a summary of the training and performance of the mice\n\n"
      ]
    },
    {
      "cell_type": "code",
      "execution_count": null,
      "metadata": {
        "collapsed": false
      },
      "outputs": [],
      "source": [
        "# see a summary of the dataset\nfig = make_figures.make_figure_muscimol_sessions_overview(mus_df)\nfig\n# uncomment here to save the plot\n# data_directory = ''\n# plt.savefig(data_directory + 'Muscimol-sessions-per-mouse.pdf',\n#             transparent=True, bbox_inches='tight')"
      ]
    }
  ],
  "metadata": {
    "kernelspec": {
      "display_name": "Python 3",
      "language": "python",
      "name": "python3"
    },
    "language_info": {
      "codemirror_mode": {
        "name": "ipython",
        "version": 3
      },
      "file_extension": ".py",
      "mimetype": "text/x-python",
      "name": "python",
      "nbconvert_exporter": "python",
      "pygments_lexer": "ipython3",
      "version": "3.11.1"
    }
  },
  "nbformat": 4,
  "nbformat_minor": 0
}