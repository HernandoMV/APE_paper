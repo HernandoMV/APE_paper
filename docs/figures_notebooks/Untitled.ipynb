{
 "cells": [
  {
   "cell_type": "code",
   "execution_count": 78,
   "id": "3fbc0ede-b79a-4f25-8261-8f9ac48ada45",
   "metadata": {},
   "outputs": [
    {
     "name": "stderr",
     "output_type": "stream",
     "text": [
      "'rm' is not recognized as an internal or external command,\n",
      "operable program or batch file.\n"
     ]
    },
    {
     "name": "stdout",
     "output_type": "stream",
     "text": [
      "C:\\Users\\Yvonne\\Documents\\Hernando_APE_paper\\APE_paper\\APE_paper\\docs\\figures_notebooks\n"
     ]
    },
    {
     "name": "stderr",
     "output_type": "stream",
     "text": [
      "Cloning into 'APE_paper'...\n"
     ]
    },
    {
     "name": "stdout",
     "output_type": "stream",
     "text": [
      "branch 'YvonneJohansson' set up to track 'origin/YvonneJohansson'.\n"
     ]
    },
    {
     "name": "stderr",
     "output_type": "stream",
     "text": [
      "Switched to a new branch 'YvonneJohansson'\n"
     ]
    }
   ],
   "source": [
    "# run this on Colab\n",
    "!rm -rf APE_paper/\n",
    "!git clone https://github.com/HernandoMV/APE_paper.git\n",
    "%cd APE_paper/docs/figures_notebooks\n",
    "!git checkout YvonneJohansson"
   ]
  },
  {
   "cell_type": "code",
   "execution_count": 79,
   "id": "e9f50ab1-1675-4136-bc69-22776b139e12",
   "metadata": {},
   "outputs": [
    {
     "name": "stdout",
     "output_type": "stream",
     "text": [
      "The autoreload extension is already loaded. To reload it, use:\n",
      "  %reload_ext autoreload\n"
     ]
    }
   ],
   "source": [
    "%load_ext autoreload\n",
    "%autoreload 2\n",
    "import pandas as pd\n",
    "import urllib.request\n",
    "from os.path import exists\n",
    "import matplotlib.pylab as plt\n",
    "import numpy as np\n",
    "import pickle\n",
    "from scipy.signal import decimate\n",
    "import pickle\n",
    "import warnings\n",
    "warnings.filterwarnings('ignore')"
   ]
  },
  {
   "cell_type": "code",
   "execution_count": 80,
   "id": "959e8602-b52e-4ecf-a294-3efed1a6f9c5",
   "metadata": {},
   "outputs": [],
   "source": [
    "import sys\n",
    "import os\n",
    "sys.path.insert(1, os.path.dirname(os.path.dirname(os.path.abspath(os.curdir))))\n",
    "from scripts import YJ_analysis_utils as yj_utils\n",
    "from scripts import yj_plotting as yj_plot"
   ]
  },
  {
   "cell_type": "code",
   "execution_count": 83,
   "id": "bf5e820d-36e7-47b3-b1b6-2a184f98a0b4",
   "metadata": {},
   "outputs": [
    {
     "name": "stdout",
     "output_type": "stream",
     "text": [
      "C:\\Users\\Yvonne\\Documents\\Hernando_APE_paper\\APE_paper\\APE_paper\\docs\\figures_notebooks\n",
      "C:\\Users\\Yvonne\\Documents\\Hernando_APE_paper\\APE_paper\n"
     ]
    }
   ],
   "source": [
    "print(os.getcwd())\n",
    "%cd C:\\Users\\Yvonne\\Documents\\Hernando_APE_paper\\APE_paper"
   ]
  },
  {
   "cell_type": "code",
   "execution_count": 84,
   "id": "1bc91459-9b9e-43c1-8ec5-18d312965399",
   "metadata": {},
   "outputs": [
    {
     "name": "stdout",
     "output_type": "stream",
     "text": [
      "Downloading data...\n"
     ]
    },
    {
     "ename": "HTTPError",
     "evalue": "HTTP Error 404: NOT FOUND",
     "output_type": "error",
     "traceback": [
      "\u001b[1;31m---------------------------------------------------------------------------\u001b[0m",
      "\u001b[1;31mHTTPError\u001b[0m                                 Traceback (most recent call last)",
      "Cell \u001b[1;32mIn[84], line 11\u001b[0m\n\u001b[0;32m      9\u001b[0m \u001b[38;5;28;01mif\u001b[39;00m \u001b[38;5;129;01mnot\u001b[39;00m exists(dataset_path):\n\u001b[0;32m     10\u001b[0m     \u001b[38;5;28mprint\u001b[39m(\u001b[38;5;124m'\u001b[39m\u001b[38;5;124mDownloading data...\u001b[39m\u001b[38;5;124m'\u001b[39m)\n\u001b[1;32m---> 11\u001b[0m     \u001b[43murllib\u001b[49m\u001b[38;5;241;43m.\u001b[39;49m\u001b[43mrequest\u001b[49m\u001b[38;5;241;43m.\u001b[39;49m\u001b[43murlretrieve\u001b[49m\u001b[43m(\u001b[49m\u001b[43murl\u001b[49m\u001b[43m,\u001b[49m\u001b[43m \u001b[49m\u001b[43mdataset_path\u001b[49m\u001b[43m)\u001b[49m\n\u001b[0;32m     12\u001b[0m \u001b[38;5;28;01melse\u001b[39;00m:\n\u001b[0;32m     13\u001b[0m     \u001b[38;5;28mprint\u001b[39m(\u001b[38;5;124m'\u001b[39m\u001b[38;5;124mDataOverview already in directory\u001b[39m\u001b[38;5;124m'\u001b[39m)\n",
      "File \u001b[1;32m~\\.conda\\envs\\HMV_environment\\lib\\urllib\\request.py:239\u001b[0m, in \u001b[0;36murlretrieve\u001b[1;34m(url, filename, reporthook, data)\u001b[0m\n\u001b[0;32m    222\u001b[0m \u001b[38;5;250m\u001b[39m\u001b[38;5;124;03m\"\"\"\u001b[39;00m\n\u001b[0;32m    223\u001b[0m \u001b[38;5;124;03mRetrieve a URL into a temporary location on disk.\u001b[39;00m\n\u001b[0;32m    224\u001b[0m \n\u001b[1;32m   (...)\u001b[0m\n\u001b[0;32m    235\u001b[0m \u001b[38;5;124;03mdata file as well as the resulting HTTPMessage object.\u001b[39;00m\n\u001b[0;32m    236\u001b[0m \u001b[38;5;124;03m\"\"\"\u001b[39;00m\n\u001b[0;32m    237\u001b[0m url_type, path \u001b[38;5;241m=\u001b[39m _splittype(url)\n\u001b[1;32m--> 239\u001b[0m \u001b[38;5;28;01mwith\u001b[39;00m contextlib\u001b[38;5;241m.\u001b[39mclosing(\u001b[43murlopen\u001b[49m\u001b[43m(\u001b[49m\u001b[43murl\u001b[49m\u001b[43m,\u001b[49m\u001b[43m \u001b[49m\u001b[43mdata\u001b[49m\u001b[43m)\u001b[49m) \u001b[38;5;28;01mas\u001b[39;00m fp:\n\u001b[0;32m    240\u001b[0m     headers \u001b[38;5;241m=\u001b[39m fp\u001b[38;5;241m.\u001b[39minfo()\n\u001b[0;32m    242\u001b[0m     \u001b[38;5;66;03m# Just return the local path and the \"headers\" for file://\u001b[39;00m\n\u001b[0;32m    243\u001b[0m     \u001b[38;5;66;03m# URLs. No sense in performing a copy unless requested.\u001b[39;00m\n",
      "File \u001b[1;32m~\\.conda\\envs\\HMV_environment\\lib\\urllib\\request.py:214\u001b[0m, in \u001b[0;36murlopen\u001b[1;34m(url, data, timeout, cafile, capath, cadefault, context)\u001b[0m\n\u001b[0;32m    212\u001b[0m \u001b[38;5;28;01melse\u001b[39;00m:\n\u001b[0;32m    213\u001b[0m     opener \u001b[38;5;241m=\u001b[39m _opener\n\u001b[1;32m--> 214\u001b[0m \u001b[38;5;28;01mreturn\u001b[39;00m \u001b[43mopener\u001b[49m\u001b[38;5;241;43m.\u001b[39;49m\u001b[43mopen\u001b[49m\u001b[43m(\u001b[49m\u001b[43murl\u001b[49m\u001b[43m,\u001b[49m\u001b[43m \u001b[49m\u001b[43mdata\u001b[49m\u001b[43m,\u001b[49m\u001b[43m \u001b[49m\u001b[43mtimeout\u001b[49m\u001b[43m)\u001b[49m\n",
      "File \u001b[1;32m~\\.conda\\envs\\HMV_environment\\lib\\urllib\\request.py:523\u001b[0m, in \u001b[0;36mOpenerDirector.open\u001b[1;34m(self, fullurl, data, timeout)\u001b[0m\n\u001b[0;32m    521\u001b[0m \u001b[38;5;28;01mfor\u001b[39;00m processor \u001b[38;5;129;01min\u001b[39;00m \u001b[38;5;28mself\u001b[39m\u001b[38;5;241m.\u001b[39mprocess_response\u001b[38;5;241m.\u001b[39mget(protocol, []):\n\u001b[0;32m    522\u001b[0m     meth \u001b[38;5;241m=\u001b[39m \u001b[38;5;28mgetattr\u001b[39m(processor, meth_name)\n\u001b[1;32m--> 523\u001b[0m     response \u001b[38;5;241m=\u001b[39m \u001b[43mmeth\u001b[49m\u001b[43m(\u001b[49m\u001b[43mreq\u001b[49m\u001b[43m,\u001b[49m\u001b[43m \u001b[49m\u001b[43mresponse\u001b[49m\u001b[43m)\u001b[49m\n\u001b[0;32m    525\u001b[0m \u001b[38;5;28;01mreturn\u001b[39;00m response\n",
      "File \u001b[1;32m~\\.conda\\envs\\HMV_environment\\lib\\urllib\\request.py:632\u001b[0m, in \u001b[0;36mHTTPErrorProcessor.http_response\u001b[1;34m(self, request, response)\u001b[0m\n\u001b[0;32m    629\u001b[0m \u001b[38;5;66;03m# According to RFC 2616, \"2xx\" code indicates that the client's\u001b[39;00m\n\u001b[0;32m    630\u001b[0m \u001b[38;5;66;03m# request was successfully received, understood, and accepted.\u001b[39;00m\n\u001b[0;32m    631\u001b[0m \u001b[38;5;28;01mif\u001b[39;00m \u001b[38;5;129;01mnot\u001b[39;00m (\u001b[38;5;241m200\u001b[39m \u001b[38;5;241m<\u001b[39m\u001b[38;5;241m=\u001b[39m code \u001b[38;5;241m<\u001b[39m \u001b[38;5;241m300\u001b[39m):\n\u001b[1;32m--> 632\u001b[0m     response \u001b[38;5;241m=\u001b[39m \u001b[38;5;28;43mself\u001b[39;49m\u001b[38;5;241;43m.\u001b[39;49m\u001b[43mparent\u001b[49m\u001b[38;5;241;43m.\u001b[39;49m\u001b[43merror\u001b[49m\u001b[43m(\u001b[49m\n\u001b[0;32m    633\u001b[0m \u001b[43m        \u001b[49m\u001b[38;5;124;43m'\u001b[39;49m\u001b[38;5;124;43mhttp\u001b[39;49m\u001b[38;5;124;43m'\u001b[39;49m\u001b[43m,\u001b[49m\u001b[43m \u001b[49m\u001b[43mrequest\u001b[49m\u001b[43m,\u001b[49m\u001b[43m \u001b[49m\u001b[43mresponse\u001b[49m\u001b[43m,\u001b[49m\u001b[43m \u001b[49m\u001b[43mcode\u001b[49m\u001b[43m,\u001b[49m\u001b[43m \u001b[49m\u001b[43mmsg\u001b[49m\u001b[43m,\u001b[49m\u001b[43m \u001b[49m\u001b[43mhdrs\u001b[49m\u001b[43m)\u001b[49m\n\u001b[0;32m    635\u001b[0m \u001b[38;5;28;01mreturn\u001b[39;00m response\n",
      "File \u001b[1;32m~\\.conda\\envs\\HMV_environment\\lib\\urllib\\request.py:561\u001b[0m, in \u001b[0;36mOpenerDirector.error\u001b[1;34m(self, proto, *args)\u001b[0m\n\u001b[0;32m    559\u001b[0m \u001b[38;5;28;01mif\u001b[39;00m http_err:\n\u001b[0;32m    560\u001b[0m     args \u001b[38;5;241m=\u001b[39m (\u001b[38;5;28mdict\u001b[39m, \u001b[38;5;124m'\u001b[39m\u001b[38;5;124mdefault\u001b[39m\u001b[38;5;124m'\u001b[39m, \u001b[38;5;124m'\u001b[39m\u001b[38;5;124mhttp_error_default\u001b[39m\u001b[38;5;124m'\u001b[39m) \u001b[38;5;241m+\u001b[39m orig_args\n\u001b[1;32m--> 561\u001b[0m     \u001b[38;5;28;01mreturn\u001b[39;00m \u001b[38;5;28;43mself\u001b[39;49m\u001b[38;5;241;43m.\u001b[39;49m\u001b[43m_call_chain\u001b[49m\u001b[43m(\u001b[49m\u001b[38;5;241;43m*\u001b[39;49m\u001b[43margs\u001b[49m\u001b[43m)\u001b[49m\n",
      "File \u001b[1;32m~\\.conda\\envs\\HMV_environment\\lib\\urllib\\request.py:494\u001b[0m, in \u001b[0;36mOpenerDirector._call_chain\u001b[1;34m(self, chain, kind, meth_name, *args)\u001b[0m\n\u001b[0;32m    492\u001b[0m \u001b[38;5;28;01mfor\u001b[39;00m handler \u001b[38;5;129;01min\u001b[39;00m handlers:\n\u001b[0;32m    493\u001b[0m     func \u001b[38;5;241m=\u001b[39m \u001b[38;5;28mgetattr\u001b[39m(handler, meth_name)\n\u001b[1;32m--> 494\u001b[0m     result \u001b[38;5;241m=\u001b[39m \u001b[43mfunc\u001b[49m\u001b[43m(\u001b[49m\u001b[38;5;241;43m*\u001b[39;49m\u001b[43margs\u001b[49m\u001b[43m)\u001b[49m\n\u001b[0;32m    495\u001b[0m     \u001b[38;5;28;01mif\u001b[39;00m result \u001b[38;5;129;01mis\u001b[39;00m \u001b[38;5;129;01mnot\u001b[39;00m \u001b[38;5;28;01mNone\u001b[39;00m:\n\u001b[0;32m    496\u001b[0m         \u001b[38;5;28;01mreturn\u001b[39;00m result\n",
      "File \u001b[1;32m~\\.conda\\envs\\HMV_environment\\lib\\urllib\\request.py:641\u001b[0m, in \u001b[0;36mHTTPDefaultErrorHandler.http_error_default\u001b[1;34m(self, req, fp, code, msg, hdrs)\u001b[0m\n\u001b[0;32m    640\u001b[0m \u001b[38;5;28;01mdef\u001b[39;00m \u001b[38;5;21mhttp_error_default\u001b[39m(\u001b[38;5;28mself\u001b[39m, req, fp, code, msg, hdrs):\n\u001b[1;32m--> 641\u001b[0m     \u001b[38;5;28;01mraise\u001b[39;00m HTTPError(req\u001b[38;5;241m.\u001b[39mfull_url, code, msg, hdrs, fp)\n",
      "\u001b[1;31mHTTPError\u001b[0m: HTTP Error 404: NOT FOUND"
     ]
    }
   ],
   "source": [
    "# # Extended Data 5S & 5T:\n",
    "\n",
    "# Get dataset information:\n",
    "dataset_name = 'DataOverview_ED5PQR.csv' # CORRECT TO NEW FIGURE NUMBER\n",
    "zenodo = \"https://zenodo.org/records/xxxxxxxxxxx/files/\"\n",
    "url = zenodo + dataset_name\n",
    "dataset_path = '../../data/' + dataset_name\n",
    "\n",
    "if not exists(dataset_path):\n",
    "    print('Downloading data...')\n",
    "    urllib.request.urlretrieve(url, dataset_path)\n",
    "else:\n",
    "    print('DataOverview already in directory')\n",
    "\n",
    "#print(dataset_path)\n",
    "info = pd.read_csv(dataset_path)"
   ]
  },
  {
   "cell_type": "code",
   "execution_count": 85,
   "id": "1a4d187f-fce6-4556-9174-eb0af99c03d8",
   "metadata": {},
   "outputs": [
    {
     "data": {
      "text/html": [
       "<div>\n",
       "<style scoped>\n",
       "    .dataframe tbody tr th:only-of-type {\n",
       "        vertical-align: middle;\n",
       "    }\n",
       "\n",
       "    .dataframe tbody tr th {\n",
       "        vertical-align: top;\n",
       "    }\n",
       "\n",
       "    .dataframe thead th {\n",
       "        text-align: right;\n",
       "    }\n",
       "</style>\n",
       "<table border=\"1\" class=\"dataframe\">\n",
       "  <thead>\n",
       "    <tr style=\"text-align: right;\">\n",
       "      <th></th>\n",
       "      <th>Unnamed: 0</th>\n",
       "      <th>AnimalID</th>\n",
       "      <th>Date</th>\n",
       "      <th>fiber_side</th>\n",
       "      <th>protocol1</th>\n",
       "    </tr>\n",
       "  </thead>\n",
       "  <tbody>\n",
       "    <tr>\n",
       "      <th>0</th>\n",
       "      <td>1</td>\n",
       "      <td>TS24</td>\n",
       "      <td>20230929</td>\n",
       "      <td>right</td>\n",
       "      <td>SOR</td>\n",
       "    </tr>\n",
       "    <tr>\n",
       "      <th>1</th>\n",
       "      <td>2</td>\n",
       "      <td>TS26</td>\n",
       "      <td>20230918</td>\n",
       "      <td>right</td>\n",
       "      <td>SOR</td>\n",
       "    </tr>\n",
       "    <tr>\n",
       "      <th>2</th>\n",
       "      <td>3</td>\n",
       "      <td>TS27</td>\n",
       "      <td>20231003</td>\n",
       "      <td>right</td>\n",
       "      <td>SOR</td>\n",
       "    </tr>\n",
       "    <tr>\n",
       "      <th>3</th>\n",
       "      <td>4</td>\n",
       "      <td>TS32</td>\n",
       "      <td>20231026</td>\n",
       "      <td>right</td>\n",
       "      <td>SOR</td>\n",
       "    </tr>\n",
       "    <tr>\n",
       "      <th>4</th>\n",
       "      <td>5</td>\n",
       "      <td>TS33</td>\n",
       "      <td>20231102</td>\n",
       "      <td>right</td>\n",
       "      <td>SOR</td>\n",
       "    </tr>\n",
       "    <tr>\n",
       "      <th>5</th>\n",
       "      <td>6</td>\n",
       "      <td>TS34</td>\n",
       "      <td>20231031</td>\n",
       "      <td>right</td>\n",
       "      <td>SOR</td>\n",
       "    </tr>\n",
       "  </tbody>\n",
       "</table>\n",
       "</div>"
      ],
      "text/plain": [
       "   Unnamed: 0 AnimalID      Date fiber_side protocol1\n",
       "0           1     TS24  20230929      right       SOR\n",
       "1           2     TS26  20230918      right       SOR\n",
       "2           3     TS27  20231003      right       SOR\n",
       "3           4     TS32  20231026      right       SOR\n",
       "4           5     TS33  20231102      right       SOR\n",
       "5           6     TS34  20231031      right       SOR"
      ]
     },
     "execution_count": 85,
     "metadata": {},
     "output_type": "execute_result"
    }
   ],
   "source": [
    "info"
   ]
  },
  {
   "cell_type": "code",
   "execution_count": 77,
   "id": "6f54c36e-c767-466a-82e1-e8b1d33fe3cd",
   "metadata": {},
   "outputs": [
    {
     "name": "stdout",
     "output_type": "stream",
     "text": [
      "Downloading TS24_20230929_smoothed_signal.npy\n"
     ]
    },
    {
     "ename": "HTTPError",
     "evalue": "HTTP Error 404: NOT FOUND",
     "output_type": "error",
     "traceback": [
      "\u001b[1;31m---------------------------------------------------------------------------\u001b[0m",
      "\u001b[1;31mHTTPError\u001b[0m                                 Traceback (most recent call last)",
      "Cell \u001b[1;32mIn[77], line 24\u001b[0m\n\u001b[0;32m     22\u001b[0m \u001b[38;5;28;01mif\u001b[39;00m \u001b[38;5;129;01mnot\u001b[39;00m exists(dataset_path):\n\u001b[0;32m     23\u001b[0m     \u001b[38;5;28mprint\u001b[39m(\u001b[38;5;124m'\u001b[39m\u001b[38;5;124mDownloading \u001b[39m\u001b[38;5;124m'\u001b[39m \u001b[38;5;241m+\u001b[39m dataset_name)\n\u001b[1;32m---> 24\u001b[0m     \u001b[43murllib\u001b[49m\u001b[38;5;241;43m.\u001b[39;49m\u001b[43mrequest\u001b[49m\u001b[38;5;241;43m.\u001b[39;49m\u001b[43murlretrieve\u001b[49m\u001b[43m(\u001b[49m\u001b[43murl\u001b[49m\u001b[43m,\u001b[49m\u001b[43m \u001b[49m\u001b[43mdataset_path\u001b[49m\u001b[43m)\u001b[49m\n\u001b[0;32m     25\u001b[0m \u001b[38;5;66;03m#else:\u001b[39;00m\n\u001b[0;32m     26\u001b[0m \u001b[38;5;66;03m#   print(dataset_name + ' already in directory')\u001b[39;00m\n\u001b[0;32m     28\u001b[0m \u001b[38;5;28;01mif\u001b[39;00m j \u001b[38;5;241m==\u001b[39m \u001b[38;5;241m0\u001b[39m:\n",
      "File \u001b[1;32m~\\.conda\\envs\\HMV_environment\\lib\\urllib\\request.py:239\u001b[0m, in \u001b[0;36murlretrieve\u001b[1;34m(url, filename, reporthook, data)\u001b[0m\n\u001b[0;32m    222\u001b[0m \u001b[38;5;250m\u001b[39m\u001b[38;5;124;03m\"\"\"\u001b[39;00m\n\u001b[0;32m    223\u001b[0m \u001b[38;5;124;03mRetrieve a URL into a temporary location on disk.\u001b[39;00m\n\u001b[0;32m    224\u001b[0m \n\u001b[1;32m   (...)\u001b[0m\n\u001b[0;32m    235\u001b[0m \u001b[38;5;124;03mdata file as well as the resulting HTTPMessage object.\u001b[39;00m\n\u001b[0;32m    236\u001b[0m \u001b[38;5;124;03m\"\"\"\u001b[39;00m\n\u001b[0;32m    237\u001b[0m url_type, path \u001b[38;5;241m=\u001b[39m _splittype(url)\n\u001b[1;32m--> 239\u001b[0m \u001b[38;5;28;01mwith\u001b[39;00m contextlib\u001b[38;5;241m.\u001b[39mclosing(\u001b[43murlopen\u001b[49m\u001b[43m(\u001b[49m\u001b[43murl\u001b[49m\u001b[43m,\u001b[49m\u001b[43m \u001b[49m\u001b[43mdata\u001b[49m\u001b[43m)\u001b[49m) \u001b[38;5;28;01mas\u001b[39;00m fp:\n\u001b[0;32m    240\u001b[0m     headers \u001b[38;5;241m=\u001b[39m fp\u001b[38;5;241m.\u001b[39minfo()\n\u001b[0;32m    242\u001b[0m     \u001b[38;5;66;03m# Just return the local path and the \"headers\" for file://\u001b[39;00m\n\u001b[0;32m    243\u001b[0m     \u001b[38;5;66;03m# URLs. No sense in performing a copy unless requested.\u001b[39;00m\n",
      "File \u001b[1;32m~\\.conda\\envs\\HMV_environment\\lib\\urllib\\request.py:214\u001b[0m, in \u001b[0;36murlopen\u001b[1;34m(url, data, timeout, cafile, capath, cadefault, context)\u001b[0m\n\u001b[0;32m    212\u001b[0m \u001b[38;5;28;01melse\u001b[39;00m:\n\u001b[0;32m    213\u001b[0m     opener \u001b[38;5;241m=\u001b[39m _opener\n\u001b[1;32m--> 214\u001b[0m \u001b[38;5;28;01mreturn\u001b[39;00m \u001b[43mopener\u001b[49m\u001b[38;5;241;43m.\u001b[39;49m\u001b[43mopen\u001b[49m\u001b[43m(\u001b[49m\u001b[43murl\u001b[49m\u001b[43m,\u001b[49m\u001b[43m \u001b[49m\u001b[43mdata\u001b[49m\u001b[43m,\u001b[49m\u001b[43m \u001b[49m\u001b[43mtimeout\u001b[49m\u001b[43m)\u001b[49m\n",
      "File \u001b[1;32m~\\.conda\\envs\\HMV_environment\\lib\\urllib\\request.py:523\u001b[0m, in \u001b[0;36mOpenerDirector.open\u001b[1;34m(self, fullurl, data, timeout)\u001b[0m\n\u001b[0;32m    521\u001b[0m \u001b[38;5;28;01mfor\u001b[39;00m processor \u001b[38;5;129;01min\u001b[39;00m \u001b[38;5;28mself\u001b[39m\u001b[38;5;241m.\u001b[39mprocess_response\u001b[38;5;241m.\u001b[39mget(protocol, []):\n\u001b[0;32m    522\u001b[0m     meth \u001b[38;5;241m=\u001b[39m \u001b[38;5;28mgetattr\u001b[39m(processor, meth_name)\n\u001b[1;32m--> 523\u001b[0m     response \u001b[38;5;241m=\u001b[39m \u001b[43mmeth\u001b[49m\u001b[43m(\u001b[49m\u001b[43mreq\u001b[49m\u001b[43m,\u001b[49m\u001b[43m \u001b[49m\u001b[43mresponse\u001b[49m\u001b[43m)\u001b[49m\n\u001b[0;32m    525\u001b[0m \u001b[38;5;28;01mreturn\u001b[39;00m response\n",
      "File \u001b[1;32m~\\.conda\\envs\\HMV_environment\\lib\\urllib\\request.py:632\u001b[0m, in \u001b[0;36mHTTPErrorProcessor.http_response\u001b[1;34m(self, request, response)\u001b[0m\n\u001b[0;32m    629\u001b[0m \u001b[38;5;66;03m# According to RFC 2616, \"2xx\" code indicates that the client's\u001b[39;00m\n\u001b[0;32m    630\u001b[0m \u001b[38;5;66;03m# request was successfully received, understood, and accepted.\u001b[39;00m\n\u001b[0;32m    631\u001b[0m \u001b[38;5;28;01mif\u001b[39;00m \u001b[38;5;129;01mnot\u001b[39;00m (\u001b[38;5;241m200\u001b[39m \u001b[38;5;241m<\u001b[39m\u001b[38;5;241m=\u001b[39m code \u001b[38;5;241m<\u001b[39m \u001b[38;5;241m300\u001b[39m):\n\u001b[1;32m--> 632\u001b[0m     response \u001b[38;5;241m=\u001b[39m \u001b[38;5;28;43mself\u001b[39;49m\u001b[38;5;241;43m.\u001b[39;49m\u001b[43mparent\u001b[49m\u001b[38;5;241;43m.\u001b[39;49m\u001b[43merror\u001b[49m\u001b[43m(\u001b[49m\n\u001b[0;32m    633\u001b[0m \u001b[43m        \u001b[49m\u001b[38;5;124;43m'\u001b[39;49m\u001b[38;5;124;43mhttp\u001b[39;49m\u001b[38;5;124;43m'\u001b[39;49m\u001b[43m,\u001b[49m\u001b[43m \u001b[49m\u001b[43mrequest\u001b[49m\u001b[43m,\u001b[49m\u001b[43m \u001b[49m\u001b[43mresponse\u001b[49m\u001b[43m,\u001b[49m\u001b[43m \u001b[49m\u001b[43mcode\u001b[49m\u001b[43m,\u001b[49m\u001b[43m \u001b[49m\u001b[43mmsg\u001b[49m\u001b[43m,\u001b[49m\u001b[43m \u001b[49m\u001b[43mhdrs\u001b[49m\u001b[43m)\u001b[49m\n\u001b[0;32m    635\u001b[0m \u001b[38;5;28;01mreturn\u001b[39;00m response\n",
      "File \u001b[1;32m~\\.conda\\envs\\HMV_environment\\lib\\urllib\\request.py:561\u001b[0m, in \u001b[0;36mOpenerDirector.error\u001b[1;34m(self, proto, *args)\u001b[0m\n\u001b[0;32m    559\u001b[0m \u001b[38;5;28;01mif\u001b[39;00m http_err:\n\u001b[0;32m    560\u001b[0m     args \u001b[38;5;241m=\u001b[39m (\u001b[38;5;28mdict\u001b[39m, \u001b[38;5;124m'\u001b[39m\u001b[38;5;124mdefault\u001b[39m\u001b[38;5;124m'\u001b[39m, \u001b[38;5;124m'\u001b[39m\u001b[38;5;124mhttp_error_default\u001b[39m\u001b[38;5;124m'\u001b[39m) \u001b[38;5;241m+\u001b[39m orig_args\n\u001b[1;32m--> 561\u001b[0m     \u001b[38;5;28;01mreturn\u001b[39;00m \u001b[38;5;28;43mself\u001b[39;49m\u001b[38;5;241;43m.\u001b[39;49m\u001b[43m_call_chain\u001b[49m\u001b[43m(\u001b[49m\u001b[38;5;241;43m*\u001b[39;49m\u001b[43margs\u001b[49m\u001b[43m)\u001b[49m\n",
      "File \u001b[1;32m~\\.conda\\envs\\HMV_environment\\lib\\urllib\\request.py:494\u001b[0m, in \u001b[0;36mOpenerDirector._call_chain\u001b[1;34m(self, chain, kind, meth_name, *args)\u001b[0m\n\u001b[0;32m    492\u001b[0m \u001b[38;5;28;01mfor\u001b[39;00m handler \u001b[38;5;129;01min\u001b[39;00m handlers:\n\u001b[0;32m    493\u001b[0m     func \u001b[38;5;241m=\u001b[39m \u001b[38;5;28mgetattr\u001b[39m(handler, meth_name)\n\u001b[1;32m--> 494\u001b[0m     result \u001b[38;5;241m=\u001b[39m \u001b[43mfunc\u001b[49m\u001b[43m(\u001b[49m\u001b[38;5;241;43m*\u001b[39;49m\u001b[43margs\u001b[49m\u001b[43m)\u001b[49m\n\u001b[0;32m    495\u001b[0m     \u001b[38;5;28;01mif\u001b[39;00m result \u001b[38;5;129;01mis\u001b[39;00m \u001b[38;5;129;01mnot\u001b[39;00m \u001b[38;5;28;01mNone\u001b[39;00m:\n\u001b[0;32m    496\u001b[0m         \u001b[38;5;28;01mreturn\u001b[39;00m result\n",
      "File \u001b[1;32m~\\.conda\\envs\\HMV_environment\\lib\\urllib\\request.py:641\u001b[0m, in \u001b[0;36mHTTPDefaultErrorHandler.http_error_default\u001b[1;34m(self, req, fp, code, msg, hdrs)\u001b[0m\n\u001b[0;32m    640\u001b[0m \u001b[38;5;28;01mdef\u001b[39;00m \u001b[38;5;21mhttp_error_default\u001b[39m(\u001b[38;5;28mself\u001b[39m, req, fp, code, msg, hdrs):\n\u001b[1;32m--> 641\u001b[0m     \u001b[38;5;28;01mraise\u001b[39;00m HTTPError(req\u001b[38;5;241m.\u001b[39mfull_url, code, msg, hdrs, fp)\n",
      "\u001b[1;31mHTTPError\u001b[0m: HTTP Error 404: NOT FOUND"
     ]
    }
   ],
   "source": [
    "all_group_data = {'SOR_return_cueON_contra': [], 'SOR_return_cueOFF_contra': [], 'SOR_return_cueON_ipsi': [], 'SOR_return_cueOFF_ipsi': []}\n",
    "\n",
    "APE_choice_peak_values = []\n",
    "return_contra_cue_on_values = []\n",
    "return_contra_cue_off_values = []\n",
    "return_ipsi_cue_on_values = []\n",
    "return_ipsi_cue_off_values = []\n",
    "\n",
    "for i, mouse in enumerate(info['AnimalID']):\n",
    "    date = str(info['Date'][i])\n",
    "    fiber_side = info['fiber_side'][i]\n",
    "    protocol = info['protocol1'][i]\n",
    "    dataset_names = []\n",
    "    nr_return_trials_cue_on = 0\n",
    "    nr_return_trials_cue_off = 0\n",
    "    CoT_trial_dataname = mouse + '_' + date + '_restructured_data.pkl'\n",
    "    CoT_photo_dataname = mouse + '_' + date + '_smoothed_signal.npy' \n",
    "    dataset_names.extend([CoT_photo_dataname,CoT_trial_dataname])\n",
    "    url = zenodo + dataset_name\n",
    "    for j, dataset_name in enumerate(dataset_names): \n",
    "        dataset_path = '../../data/' + dataset_name\n",
    "        if not exists(dataset_path):\n",
    "            print('Downloading ' + dataset_name)\n",
    "            urllib.request.urlretrieve(url, dataset_path)\n",
    "        #else:\n",
    "        #   print(dataset_name + ' already in directory')\n",
    "        \n",
    "        if j == 0:\n",
    "            photometry_data = np.load(dataset_path)  \n",
    "        if j == 1:  \n",
    "            trial_data = pd.read_pickle(dataset_path)\n",
    "            session_traces = yj_utils.SessionData(mouse, date, fiber_side, protocol, trial_data, photometry_data)\n",
    "\n",
    "    alignements = ['SOR_choice','SOR_return_cueON_contra','SOR_return_cueOFF_contra', 'SOR_return_cueON_ipsi', 'SOR_return_cueOFF_ipsi']\n",
    "    for a, alignement in enumerate(alignements):\n",
    "        if alignement == 'SOR_choice':\n",
    "            curr_data = session_traces.SOR_choice.contra_data\n",
    "            curr_data_traces = decimate(curr_data.sorted_traces, 10)\n",
    "            print('choice traces:' + str(curr_data_traces.shape))\n",
    "        elif alignement == 'SOR_return_cueON_contra':\n",
    "            curr_data = session_traces.SOR_return_cueON.contra_data\n",
    "        elif alignement == 'SOR_return_cueOFF_contra':\n",
    "            curr_data = session_traces.SOR_return_cueOFF.contra_data\n",
    "        elif alignement == 'SOR_return_cueON_ipsi':\n",
    "            curr_data = session_traces.SOR_return_cueON.ipsi_data\n",
    "        elif alignement == 'SOR_return_cueOFF_ipsi':\n",
    "            curr_data = session_traces.SOR_return_cueOFF.ipsi_data\n",
    "\n",
    "        curr_data_mean = decimate(curr_data.mean_trace, 10) # data aligned to start of return movement\n",
    "\n",
    "        if alignement != 'SOR_choice':\n",
    "            # all return data is aligned to the start of return movement (=side port out)\n",
    "            # to align it to the return cue instead, which happens 20ms after side port out, it needs to be shifted: \n",
    "            t1 = np.pad(curr_data_mean, (0, 20))  # pad with 20 zeros (20ms with 10Hz sampling = 200, however decimate 10 above, hence only 20 datapoints)\n",
    "            t2 = t1[20:]\n",
    "            curr_data_mean = t2\n",
    "            all_group_data[alignement].append(curr_data_mean)\n",
    "\n",
    "        curr_data_time = decimate(curr_data.time_points, 10)\n",
    "        curr_data_traces = decimate(curr_data.sorted_traces, 10)\n",
    "        \n",
    "\n",
    "        if alignement == 'SOR_choice':\n",
    "            # extract how long it takes on average to the peak movement signal in a classic contra trial (center --> side port)\n",
    "            start_inx = 8000\n",
    "            APE_choice_time_range = curr_data_time[start_inx:start_inx + 8000]\n",
    "            APE_choice_peak_index = np.argmax(curr_data_mean[start_inx:start_inx + 8000])\n",
    "            #print(APE_choice_peak_index)\n",
    "        # extract movement after the same time interval in the return trials: \n",
    "        amplitude = curr_data_mean[start_inx + APE_choice_peak_index]\n",
    "        \n",
    "        if alignement == 'SOR_return_cueON_contra':\n",
    "            nr_return_trials_cue_on = nr_return_trials_cue_on + curr_data_traces.shape[0]\n",
    "            return_contra_cue_on_values.append(amplitude)\n",
    "        elif alignement == 'SOR_return_cueOFF_contra':\n",
    "            nr_return_trials_cue_off = nr_return_trials_cue_off + curr_data_traces.shape[0]\n",
    "            return_contra_cue_off_values.append(amplitude)\n",
    "        elif alignement == 'SOR_return_cueON_ipsi':    \n",
    "            nr_return_trials_cue_on = nr_return_trials_cue_on + curr_data_traces.shape[0]\n",
    "            return_ipsi_cue_on_values.append(amplitude)\n",
    "        elif alignement == 'SOR_return_cueOFF_ipsi':\n",
    "            nr_return_trials_cue_off = nr_return_trials_cue_off + curr_data_traces.shape[0]\n",
    "            return_ipsi_cue_off_values.append(amplitude)\n",
    "        \n",
    "    #print(f\"Return trials: {nr_return_trials_cue_on:.0f} cue on, {nr_return_trials_cue_off:.0f} cue off, total cue on % : {(nr_return_trials_cue_on*100 / (nr_return_trials_cue_on + nr_return_trials_cue_off)):.2f}\")\n",
    "        \n",
    "\n",
    "figure = yj_plot.plot_ED5ST(all_group_data, curr_data_time, return_contra_cue_on_values, return_contra_cue_off_values, return_ipsi_cue_on_values, return_ipsi_cue_off_values)\n",
    "\n",
    "            "
   ]
  },
  {
   "cell_type": "code",
   "execution_count": null,
   "id": "60eddf66-0cfb-4f0e-a15c-47d66477aaf7",
   "metadata": {},
   "outputs": [],
   "source": []
  },
  {
   "cell_type": "code",
   "execution_count": null,
   "id": "a5799db5-8def-401f-9777-5a6a42574e18",
   "metadata": {},
   "outputs": [],
   "source": []
  },
  {
   "cell_type": "code",
   "execution_count": null,
   "id": "14c6cab1-f6da-4ece-be27-3223b2f715d9",
   "metadata": {},
   "outputs": [],
   "source": []
  },
  {
   "cell_type": "code",
   "execution_count": 76,
   "id": "82fe1372-ea5b-42a7-9d00-d9e0d4bed58b",
   "metadata": {},
   "outputs": [
    {
     "name": "stdout",
     "output_type": "stream",
     "text": [
      "C:\\Users\\Yvonne\\Documents\\Hernando_APE_paper\\APE_paper\n"
     ]
    },
    {
     "ename": "FileNotFoundError",
     "evalue": "[Errno 2] No such file or directory: '../../data/TS34_20231031_smoothed_signal.npy'",
     "output_type": "error",
     "traceback": [
      "\u001b[1;31m---------------------------------------------------------------------------\u001b[0m",
      "\u001b[1;31mFileNotFoundError\u001b[0m                         Traceback (most recent call last)",
      "Cell \u001b[1;32mIn[76], line 11\u001b[0m\n\u001b[0;32m      9\u001b[0m dataset_names\u001b[38;5;241m.\u001b[39mextend([CoT_photo_dataname,CoT_trial_dataname])\n\u001b[0;32m     10\u001b[0m dataset_path \u001b[38;5;241m=\u001b[39m \u001b[38;5;124m'\u001b[39m\u001b[38;5;124m../../data/\u001b[39m\u001b[38;5;124m'\u001b[39m \u001b[38;5;241m+\u001b[39m dataset_name\n\u001b[1;32m---> 11\u001b[0m photometry_data \u001b[38;5;241m=\u001b[39m \u001b[43mnp\u001b[49m\u001b[38;5;241;43m.\u001b[39;49m\u001b[43mload\u001b[49m\u001b[43m(\u001b[49m\u001b[43mdataset_path\u001b[49m\u001b[43m)\u001b[49m  \n\u001b[0;32m     12\u001b[0m trial_data \u001b[38;5;241m=\u001b[39m pd\u001b[38;5;241m.\u001b[39mread_pickle(dataset_path)\n\u001b[0;32m     13\u001b[0m session_traces \u001b[38;5;241m=\u001b[39m yj_utils\u001b[38;5;241m.\u001b[39mSessionData(mouse, date, fiber_side, protocol, trial_data, photometry_data)\n",
      "File \u001b[1;32m~\\.conda\\envs\\HMV_environment\\lib\\site-packages\\numpy\\lib\\npyio.py:427\u001b[0m, in \u001b[0;36mload\u001b[1;34m(file, mmap_mode, allow_pickle, fix_imports, encoding, max_header_size)\u001b[0m\n\u001b[0;32m    425\u001b[0m     own_fid \u001b[38;5;241m=\u001b[39m \u001b[38;5;28;01mFalse\u001b[39;00m\n\u001b[0;32m    426\u001b[0m \u001b[38;5;28;01melse\u001b[39;00m:\n\u001b[1;32m--> 427\u001b[0m     fid \u001b[38;5;241m=\u001b[39m stack\u001b[38;5;241m.\u001b[39menter_context(\u001b[38;5;28;43mopen\u001b[39;49m\u001b[43m(\u001b[49m\u001b[43mos_fspath\u001b[49m\u001b[43m(\u001b[49m\u001b[43mfile\u001b[49m\u001b[43m)\u001b[49m\u001b[43m,\u001b[49m\u001b[43m \u001b[49m\u001b[38;5;124;43m\"\u001b[39;49m\u001b[38;5;124;43mrb\u001b[39;49m\u001b[38;5;124;43m\"\u001b[39;49m\u001b[43m)\u001b[49m)\n\u001b[0;32m    428\u001b[0m     own_fid \u001b[38;5;241m=\u001b[39m \u001b[38;5;28;01mTrue\u001b[39;00m\n\u001b[0;32m    430\u001b[0m \u001b[38;5;66;03m# Code to distinguish from NumPy binary files and pickles.\u001b[39;00m\n",
      "\u001b[1;31mFileNotFoundError\u001b[0m: [Errno 2] No such file or directory: '../../data/TS34_20231031_smoothed_signal.npy'"
     ]
    }
   ],
   "source": [
    "#for i, mouse in enumerate(info['AnimalID']):\n",
    "%cd C:\\Users\\Yvonne\\Documents\\Hernando_APE_paper\\APE_paper\n",
    "mouse='TS24'\n",
    "date = '20230929'\n",
    "fiber_side = 'right'\n",
    "protocol = 'SOR'\n",
    "CoT_trial_dataname = mouse + '_' + date + '_restructured_data.pkl'\n",
    "CoT_photo_dataname = mouse + '_' + date + '_smoothed_signal.npy' \n",
    "dataset_names.extend([CoT_photo_dataname,CoT_trial_dataname])\n",
    "dataset_path = '../../data/' + dataset_name\n",
    "photometry_data = np.load(dataset_path)  \n",
    "trial_data = pd.read_pickle(dataset_path)\n",
    "session_traces = yj_utils.SessionData(mouse, date, fiber_side, protocol, trial_data, photometry_data)\n",
    "\n",
    "               "
   ]
  },
  {
   "cell_type": "code",
   "execution_count": 9,
   "id": "a5c3c8a0-2ca6-4f43-ae1b-596365491174",
   "metadata": {},
   "outputs": [
    {
     "ename": "NameError",
     "evalue": "name 'jd' is not defined",
     "output_type": "error",
     "traceback": [
      "\u001b[1;31m---------------------------------------------------------------------------\u001b[0m",
      "\u001b[1;31mNameError\u001b[0m                                 Traceback (most recent call last)",
      "Cell \u001b[1;32mIn[9], line 1\u001b[0m\n\u001b[1;32m----> 1\u001b[0m \u001b[43mjd\u001b[49m\n",
      "\u001b[1;31mNameError\u001b[0m: name 'jd' is not defined"
     ]
    }
   ],
   "source": [
    "session_traces = yj_utils.SessionData('TS24', '20230929','right', 'SOR', trial_data, photometry_data)"
   ]
  },
  {
   "cell_type": "code",
   "execution_count": 47,
   "id": "4740bc95-0cb7-4540-ab40-7ffcb3a7cc2b",
   "metadata": {},
   "outputs": [],
   "source": [
    "def get_SessionData(directory, mouse, date, fiber_side, location):\n",
    "    %cd Z:\\users\\Yvonne\\photometry_2AC\\YJ_results\\TS24\n",
    "    #os.chdir(r\"Z/users/Yvonne/photometry_2AC/YJ_results/TS24/\")\n",
    "\n",
    "           #  %cd APE_paper/docs/figures_notebooks\n",
    "    #os.chdir(r\"C:\\path\\to\\your\\desired\\folder\")\n",
    "    #folder = directory + 'YJ_results\\\\' + mouse + '\\\\'\n",
    "    aligned_filename = mouse + '_' + date + '_' + fiber_side + '_' + location + '_' + 'aligned_traces.p'\n",
    "    #print('Now loading: ' + aligned_filename)\n",
    "    with open(aligned_filename, 'rb') as f:\n",
    "        data = pickle.load(f)\n",
    "    return data"
   ]
  },
  {
   "cell_type": "code",
   "execution_count": 48,
   "id": "ba18f38e-5d56-419d-afe4-30944c816964",
   "metadata": {},
   "outputs": [],
   "source": [
    "mouse = 'TS24'\n",
    "date = '20230929'\n",
    "fiber_side = 'right'\n",
    "location = 'TS'\n",
    "#directory = 'Z:\\users\\Yvonne\\photometry_2AC\\' \n",
    "directory = 'Z\\\\users\\\\Yvonne\\\\photometry_2AC\\\\'"
   ]
  },
  {
   "cell_type": "code",
   "execution_count": 49,
   "id": "de232360-b625-4955-88e6-b45cc4cfcbb1",
   "metadata": {},
   "outputs": [
    {
     "name": "stdout",
     "output_type": "stream",
     "text": [
      "Z:\\users\\Yvonne\\photometry_2AC\\YJ_results\\TS24\n"
     ]
    },
    {
     "ename": "ModuleNotFoundError",
     "evalue": "No module named 'yvonne_basic_functions'",
     "output_type": "error",
     "traceback": [
      "\u001b[1;31m---------------------------------------------------------------------------\u001b[0m",
      "\u001b[1;31mModuleNotFoundError\u001b[0m                       Traceback (most recent call last)",
      "Cell \u001b[1;32mIn[49], line 1\u001b[0m\n\u001b[1;32m----> 1\u001b[0m pd \u001b[38;5;241m=\u001b[39m \u001b[43mget_SessionData\u001b[49m\u001b[43m(\u001b[49m\u001b[43mdirectory\u001b[49m\u001b[43m,\u001b[49m\u001b[43m \u001b[49m\u001b[43mmouse\u001b[49m\u001b[43m,\u001b[49m\u001b[43m \u001b[49m\u001b[43mdate\u001b[49m\u001b[43m,\u001b[49m\u001b[43m \u001b[49m\u001b[43mfiber_side\u001b[49m\u001b[43m,\u001b[49m\u001b[43m \u001b[49m\u001b[43mlocation\u001b[49m\u001b[43m)\u001b[49m\n",
      "Cell \u001b[1;32mIn[47], line 11\u001b[0m, in \u001b[0;36mget_SessionData\u001b[1;34m(directory, mouse, date, fiber_side, location)\u001b[0m\n\u001b[0;32m      9\u001b[0m \u001b[38;5;66;03m#print('Now loading: ' + aligned_filename)\u001b[39;00m\n\u001b[0;32m     10\u001b[0m \u001b[38;5;28;01mwith\u001b[39;00m \u001b[38;5;28mopen\u001b[39m(aligned_filename, \u001b[38;5;124m'\u001b[39m\u001b[38;5;124mrb\u001b[39m\u001b[38;5;124m'\u001b[39m) \u001b[38;5;28;01mas\u001b[39;00m f:\n\u001b[1;32m---> 11\u001b[0m     data \u001b[38;5;241m=\u001b[39m \u001b[43mpickle\u001b[49m\u001b[38;5;241;43m.\u001b[39;49m\u001b[43mload\u001b[49m\u001b[43m(\u001b[49m\u001b[43mf\u001b[49m\u001b[43m)\u001b[49m\n\u001b[0;32m     12\u001b[0m \u001b[38;5;28;01mreturn\u001b[39;00m data\n",
      "\u001b[1;31mModuleNotFoundError\u001b[0m: No module named 'yvonne_basic_functions'"
     ]
    }
   ],
   "source": [
    "pd = get_SessionData(directory, mouse, date, fiber_side, location)"
   ]
  },
  {
   "cell_type": "code",
   "execution_count": 41,
   "id": "135270a9-8465-4502-ace6-7fd0158f7fb5",
   "metadata": {},
   "outputs": [
    {
     "name": "stdout",
     "output_type": "stream",
     "text": [
      "Z:\\users\n"
     ]
    }
   ],
   "source": [
    "print(os.getcwd())"
   ]
  },
  {
   "cell_type": "code",
   "execution_count": 42,
   "id": "7ac22397-8645-4557-ad3d-69e7fa2b94ff",
   "metadata": {},
   "outputs": [
    {
     "name": "stdout",
     "output_type": "stream",
     "text": [
      "Z:\\users\\Yvonne\\photometry_2AC\\YJ_results\\TS24\n"
     ]
    }
   ],
   "source": [
    "%cd Z:\\users\\Yvonne\\photometry_2AC\\YJ_results\\TS24"
   ]
  },
  {
   "cell_type": "code",
   "execution_count": 52,
   "id": "8e8a6a07-fb87-444f-a834-1a8ec8211ea8",
   "metadata": {},
   "outputs": [
    {
     "name": "stdout",
     "output_type": "stream",
     "text": [
      "Z:\\users\\Yvonne\\photometry_2AC\\YJ_results\\TS24\n",
      "TS24_20230929_right_TS_aligned_traces.p\n"
     ]
    }
   ],
   "source": [
    "print(os.getcwd())\n",
    "aligned_filename = mouse + '_' + date + '_' + fiber_side + '_' + location + '_' + 'aligned_traces.p'\n",
    "print(aligned_filename)\n",
    "with open(aligned_filename, 'rb') as f:\n",
    "        data = pickle.load(f)"
   ]
  },
  {
   "cell_type": "raw",
   "id": "c827face-b6a6-4542-94a2-b08c92d39698",
   "metadata": {},
   "source": [
    "with open(aligned_filename, 'rb') as f:\n",
    "        data = pickle.load(f)"
   ]
  },
  {
   "cell_type": "code",
   "execution_count": 58,
   "id": "09400a5e-ba8f-4b73-a5b2-944cd357ebbd",
   "metadata": {},
   "outputs": [],
   "source": [
    "pd = data\n",
    "curr_data = pd.SOR_cue.contra_data\n",
    "curr_data_traces = decimate(curr_data.sorted_traces, 10)"
   ]
  },
  {
   "cell_type": "code",
   "execution_count": 59,
   "id": "e087d37e-0136-4e1c-8d20-d59bb5d8a516",
   "metadata": {},
   "outputs": [
    {
     "name": "stdout",
     "output_type": "stream",
     "text": [
      "choice traces:(120, 16000)\n"
     ]
    }
   ],
   "source": [
    "print('choice traces:' + str(curr_data_traces.shape))"
   ]
  },
  {
   "cell_type": "code",
   "execution_count": null,
   "id": "5f915346-b857-4f65-a89d-039481316d9b",
   "metadata": {},
   "outputs": [],
   "source": []
  }
 ],
 "metadata": {
  "kernelspec": {
   "display_name": "Python 3 (ipykernel)",
   "language": "python",
   "name": "python3"
  },
  "language_info": {
   "codemirror_mode": {
    "name": "ipython",
    "version": 3
   },
   "file_extension": ".py",
   "mimetype": "text/x-python",
   "name": "python",
   "nbconvert_exporter": "python",
   "pygments_lexer": "ipython3",
   "version": "3.9.18"
  }
 },
 "nbformat": 4,
 "nbformat_minor": 5
}
