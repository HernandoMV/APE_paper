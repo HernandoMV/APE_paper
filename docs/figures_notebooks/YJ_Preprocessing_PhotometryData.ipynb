{
 "cells": [
  {
   "cell_type": "code",
   "execution_count": 1,
   "id": "a7089584-caab-47a4-ad0d-f80dbe80addd",
   "metadata": {},
   "outputs": [],
   "source": [
    "# This notebook shows how raw data (1. dLight photometry and 2. behavioural data from matlab) \n",
    "# was pre-processed and restructured for further analysis in python. "
   ]
  },
  {
   "cell_type": "code",
   "execution_count": 9,
   "id": "658656fa-999d-4083-8767-d5a0452b1edd",
   "metadata": {},
   "outputs": [
    {
     "name": "stdout",
     "output_type": "stream",
     "text": [
      "The autoreload extension is already loaded. To reload it, use:\n",
      "  %reload_ext autoreload\n"
     ]
    }
   ],
   "source": [
    "%load_ext autoreload\n",
    "%autoreload 2\n",
    "import urllib.request\n",
    "from os.path import exists\n",
    "import pandas as pd\n",
    "import sys\n",
    "sys.path.insert(1, 'C:\\\\Users\\\\Yvonne\\\\Documents\\\\Hernando_APE_paper\\\\APE_paper\\\\')\n",
    "from scripts import YJ_preprocessing as YJ_pp"
   ]
  },
  {
   "cell_type": "code",
   "execution_count": null,
   "id": "159c55b0-d042-46b6-8789-a79b97c9715a",
   "metadata": {},
   "outputs": [],
   "source": []
  },
  {
   "cell_type": "markdown",
   "id": "2327de29-84a5-4fc2-82cc-24c312a04a68",
   "metadata": {},
   "source": [
    "Select which data to preprocess:"
   ]
  },
  {
   "cell_type": "code",
   "execution_count": 50,
   "id": "8e19da75-030d-4412-b2c6-6c324efea878",
   "metadata": {},
   "outputs": [],
   "source": [
    "# Select which data to preprocess - chose specific mice & dates or a specific figure panel:\n",
    "\n",
    "mice = ['TS3']\n",
    "dates = ['20230203']\n",
    "protocol = ''\n",
    "figure = ''\n",
    "\n",
    "if figure == 'SF5TU':\n",
    "    mice = ['TS3', 'TS20', 'TS21', 'TS26', 'TS33']\n",
    "    dates = ['20230203', '20230512','20230510','20230929','20231106']\n",
    "    protocol = ''\n"
   ]
  },
  {
   "cell_type": "markdown",
   "id": "2de88d53-b300-4beb-8cda-0856d3c13d58",
   "metadata": {},
   "source": [
    "Loading of experimental record file:"
   ]
  },
  {
   "cell_type": "code",
   "execution_count": 51,
   "id": "1b770a4d-08ae-49f1-98ec-d6a541b8c2f9",
   "metadata": {},
   "outputs": [
    {
     "name": "stdout",
     "output_type": "stream",
     "text": [
      "YJ_experimental_record.csv already in directory\n"
     ]
    }
   ],
   "source": [
    "# load the experimental record file: \n",
    "\n",
    "dataset_name = 'YJ_experimental_record.csv'\n",
    "#zenodo = \"https://zenodo.org/records/1111111111/files/\"\n",
    "#url = zenodo + dataset_name\n",
    "dataset_path = '../../data/' + dataset_name\n",
    "\n",
    "if not exists(dataset_path):\n",
    "    print('Downloading data...')\n",
    "    urllib.request.urlretrieve(url, dataset_path)\n",
    "else:\n",
    "    print(dataset_name + ' already in directory')\n",
    "\n",
    "exp_record = pd.read_csv(dataset_path)"
   ]
  },
  {
   "cell_type": "code",
   "execution_count": 52,
   "id": "636b2157-9e66-42b7-856a-32a2055fc51a",
   "metadata": {
    "scrolled": true
   },
   "outputs": [],
   "source": [
    "#exp_record"
   ]
  },
  {
   "cell_type": "code",
   "execution_count": 53,
   "id": "0fee6779-c4ff-4723-9a33-e2fc9e724b2c",
   "metadata": {},
   "outputs": [
    {
     "data": {
      "text/html": [
       "<div>\n",
       "<style scoped>\n",
       "    .dataframe tbody tr th:only-of-type {\n",
       "        vertical-align: middle;\n",
       "    }\n",
       "\n",
       "    .dataframe tbody tr th {\n",
       "        vertical-align: top;\n",
       "    }\n",
       "\n",
       "    .dataframe thead th {\n",
       "        text-align: right;\n",
       "    }\n",
       "</style>\n",
       "<table border=\"1\" class=\"dataframe\">\n",
       "  <thead>\n",
       "    <tr style=\"text-align: right;\">\n",
       "      <th></th>\n",
       "      <th>mouse</th>\n",
       "      <th>date</th>\n",
       "      <th>fiber_side</th>\n",
       "      <th>protocol</th>\n",
       "    </tr>\n",
       "  </thead>\n",
       "  <tbody>\n",
       "    <tr>\n",
       "      <th>0</th>\n",
       "      <td>TS3</td>\n",
       "      <td>20230203</td>\n",
       "      <td>right</td>\n",
       "      <td>2AC</td>\n",
       "    </tr>\n",
       "    <tr>\n",
       "      <th>1</th>\n",
       "      <td>TS3</td>\n",
       "      <td>20230203</td>\n",
       "      <td>right</td>\n",
       "      <td>RTC</td>\n",
       "    </tr>\n",
       "  </tbody>\n",
       "</table>\n",
       "</div>"
      ],
      "text/plain": [
       "  mouse      date fiber_side protocol\n",
       "0   TS3  20230203      right      2AC\n",
       "1   TS3  20230203      right      RTC"
      ]
     },
     "execution_count": 53,
     "metadata": {},
     "output_type": "execute_result"
    }
   ],
   "source": [
    "# Get the experiments to process:\n",
    "experiments_to_process = YJ_pp.GetExperimentsToProcess(mice, dates, protocol, exp_record)\n",
    "experiments_to_process    "
   ]
  },
  {
   "cell_type": "markdown",
   "id": "5926dd64-5b2f-4795-8c14-c5f41647ced5",
   "metadata": {},
   "source": [
    "Load the raw data from zenodo:"
   ]
  },
  {
   "cell_type": "code",
   "execution_count": 54,
   "id": "dd21ca91-7c9b-4fa7-ba5a-df5094e9246c",
   "metadata": {},
   "outputs": [],
   "source": [
    "# Load raw data from zenodo: \n",
    "\n",
    "# xxxxxx"
   ]
  },
  {
   "cell_type": "markdown",
   "id": "5f6f1759-b065-45f8-82ea-33130f0ed26a",
   "metadata": {},
   "source": [
    "Preprocess the data:"
   ]
  },
  {
   "cell_type": "code",
   "execution_count": 55,
   "id": "9f3aa02b-01b7-401c-bc14-7dcd93e2495b",
   "metadata": {},
   "outputs": [
    {
     "name": "stdout",
     "output_type": "stream",
     "text": [
      "TS3\n",
      "TS3\n"
     ]
    }
   ],
   "source": [
    "preprocessed = YJ_pp.preprocessData(experiments_to_process)"
   ]
  },
  {
   "cell_type": "code",
   "execution_count": null,
   "id": "414c9c4a-5fcb-4563-8df0-6106fb6eef17",
   "metadata": {},
   "outputs": [],
   "source": []
  },
  {
   "cell_type": "code",
   "execution_count": null,
   "id": "3d4125fb-2f19-4e63-a6fc-7558d483593f",
   "metadata": {},
   "outputs": [],
   "source": []
  },
  {
   "cell_type": "code",
   "execution_count": null,
   "id": "d90822b1-09fd-4d4c-ab17-5384cd50ceea",
   "metadata": {},
   "outputs": [],
   "source": []
  },
  {
   "cell_type": "code",
   "execution_count": null,
   "id": "a0dfa702-a1c7-4819-87fa-371decbacf00",
   "metadata": {},
   "outputs": [],
   "source": []
  }
 ],
 "metadata": {
  "kernelspec": {
   "display_name": "Python 3 (ipykernel)",
   "language": "python",
   "name": "python3"
  },
  "language_info": {
   "codemirror_mode": {
    "name": "ipython",
    "version": 3
   },
   "file_extension": ".py",
   "mimetype": "text/x-python",
   "name": "python",
   "nbconvert_exporter": "python",
   "pygments_lexer": "ipython3",
   "version": "3.9.18"
  }
 },
 "nbformat": 4,
 "nbformat_minor": 5
}
