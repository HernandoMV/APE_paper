{
 "cells": [
  {
   "cell_type": "code",
   "execution_count": 1,
   "id": "a7089584-caab-47a4-ad0d-f80dbe80addd",
   "metadata": {},
   "outputs": [],
   "source": [
    "# This notebook shows how raw data (1. dLight photometry and 2. behavioural bpod data from matlab) \n",
    "# was pre-processed and restructured for further analysis in python. "
   ]
  },
  {
   "cell_type": "code",
   "execution_count": null,
   "id": "8b346df0-a606-4122-bc4b-00c9c2b2d1f3",
   "metadata": {},
   "outputs": [],
   "source": [
    "# run this on Colab\n",
    "!rm -rf APE_paper/\n",
    "!git clone https://github.com/HernandoMV/APE_paper.git\n",
    "%cd APE_paper/docs/figures_notebooks\n",
    "!git checkout YvonneJohansson"
   ]
  },
  {
   "cell_type": "code",
   "execution_count": 1,
   "id": "658656fa-999d-4083-8767-d5a0452b1edd",
   "metadata": {},
   "outputs": [],
   "source": [
    "%load_ext autoreload\n",
    "%autoreload 2\n",
    "import urllib.request\n",
    "from os.path import exists\n",
    "import pandas as pd\n",
    "import sys\n",
    "import os\n",
    "sys.path.insert(1, os.path.dirname(os.path.dirname(os.path.abspath(os.curdir))))\n",
    "from scripts import YJ_preprocessing as YJ_pp"
   ]
  },
  {
   "cell_type": "markdown",
   "id": "2327de29-84a5-4fc2-82cc-24c312a04a68",
   "metadata": {},
   "source": [
    "Select which data to preprocess:"
   ]
  },
  {
   "cell_type": "code",
   "execution_count": 82,
   "id": "8e19da75-030d-4412-b2c6-6c324efea878",
   "metadata": {},
   "outputs": [],
   "source": [
    "# Select which data to preprocess - chose specific mice & dates or a specific figure panel:\n",
    "\n",
    "mice = ['']\n",
    "dates = ['20230203']\n",
    "protocol = ''\n",
    "figure = 'SF5VW'\n",
    "\n",
    "if figure == 'SF4FG':\n",
    "    mice = ['TS24', 'TS26', 'TS33', 'TS34']\n",
    "    dates = ['20230920', '20230918','20231102','20231030']\n",
    "    protocol = 'SOR'\n",
    "\n",
    "if figure == 'SF5PQR':\n",
    "    mice = ['TS24', 'TS26', 'TS27', 'TS32', 'TS33', 'TS34']\n",
    "    dates = ['20230929', '20230918','20231003', '20231026','20231102','20231031']\n",
    "    protocol = 'SOR'\n",
    "\n",
    "if figure == 'SF5TU':\n",
    "    mice = ['TS3', 'TS20', 'TS21', 'TS26', 'TS33']\n",
    "    dates = ['20230203', '20230512','20230510','20230929','20231106']\n",
    "    protocol = ''\n",
    "\n",
    "if figure == 'SF5VW':\n",
    "    mice = ['TS32', 'TS33', 'TS34']\n",
    "    dates = ['20231128','20231128','20231128']\n",
    "    protocol = ''\n",
    "\n"
   ]
  },
  {
   "cell_type": "markdown",
   "id": "2de88d53-b300-4beb-8cda-0856d3c13d58",
   "metadata": {},
   "source": [
    "Loading of experimental record file:"
   ]
  },
  {
   "cell_type": "code",
   "execution_count": 88,
   "id": "1b770a4d-08ae-49f1-98ec-d6a541b8c2f9",
   "metadata": {},
   "outputs": [
    {
     "name": "stdout",
     "output_type": "stream",
     "text": [
      "DataOverview_All.csv already in directory\n"
     ]
    }
   ],
   "source": [
    "# load the experimental record file: \n",
    "\n",
    "dataset_name = 'DataOverview_All.csv'\n",
    "#zenodo = \"https://zenodo.org/records/1111111111/files/\"\n",
    "#url = zenodo + dataset_name\n",
    "dataset_path = '../../data/' + dataset_name\n",
    "\n",
    "if not exists(dataset_path):\n",
    "    print('Downloading data...')\n",
    "    urllib.request.urlretrieve(url, dataset_path)\n",
    "else:\n",
    "    print(dataset_name + ' already in directory')\n",
    "\n",
    "exp_record = pd.read_csv(dataset_path)"
   ]
  },
  {
   "cell_type": "code",
   "execution_count": 91,
   "id": "0fee6779-c4ff-4723-9a33-e2fc9e724b2c",
   "metadata": {},
   "outputs": [
    {
     "data": {
      "text/html": [
       "<div>\n",
       "<style scoped>\n",
       "    .dataframe tbody tr th:only-of-type {\n",
       "        vertical-align: middle;\n",
       "    }\n",
       "\n",
       "    .dataframe tbody tr th {\n",
       "        vertical-align: top;\n",
       "    }\n",
       "\n",
       "    .dataframe thead th {\n",
       "        text-align: right;\n",
       "    }\n",
       "</style>\n",
       "<table border=\"1\" class=\"dataframe\">\n",
       "  <thead>\n",
       "    <tr style=\"text-align: right;\">\n",
       "      <th></th>\n",
       "      <th>AnimalID</th>\n",
       "      <th>Date</th>\n",
       "      <th>fiber_side</th>\n",
       "      <th>protocol</th>\n",
       "    </tr>\n",
       "  </thead>\n",
       "  <tbody>\n",
       "    <tr>\n",
       "      <th>0</th>\n",
       "      <td>TS32</td>\n",
       "      <td>20231128</td>\n",
       "      <td>right</td>\n",
       "      <td>LRO</td>\n",
       "    </tr>\n",
       "    <tr>\n",
       "      <th>1</th>\n",
       "      <td>TS32</td>\n",
       "      <td>20231128</td>\n",
       "      <td>right</td>\n",
       "      <td>RWN</td>\n",
       "    </tr>\n",
       "    <tr>\n",
       "      <th>2</th>\n",
       "      <td>TS33</td>\n",
       "      <td>20231128</td>\n",
       "      <td>right</td>\n",
       "      <td>LRO</td>\n",
       "    </tr>\n",
       "    <tr>\n",
       "      <th>3</th>\n",
       "      <td>TS33</td>\n",
       "      <td>20231128</td>\n",
       "      <td>right</td>\n",
       "      <td>RWN</td>\n",
       "    </tr>\n",
       "    <tr>\n",
       "      <th>4</th>\n",
       "      <td>TS34</td>\n",
       "      <td>20231128</td>\n",
       "      <td>right</td>\n",
       "      <td>LRO</td>\n",
       "    </tr>\n",
       "    <tr>\n",
       "      <th>5</th>\n",
       "      <td>TS34</td>\n",
       "      <td>20231128</td>\n",
       "      <td>right</td>\n",
       "      <td>RWN</td>\n",
       "    </tr>\n",
       "  </tbody>\n",
       "</table>\n",
       "</div>"
      ],
      "text/plain": [
       "  AnimalID      Date fiber_side protocol\n",
       "0     TS32  20231128      right      LRO\n",
       "1     TS32  20231128      right      RWN\n",
       "2     TS33  20231128      right      LRO\n",
       "3     TS33  20231128      right      RWN\n",
       "4     TS34  20231128      right      LRO\n",
       "5     TS34  20231128      right      RWN"
      ]
     },
     "execution_count": 91,
     "metadata": {},
     "output_type": "execute_result"
    }
   ],
   "source": [
    "# Get the experiments to process:\n",
    "experiments_to_process = YJ_pp.GetExperimentsToProcess(mice, dates, protocol, exp_record)\n",
    "experiments_to_process    "
   ]
  },
  {
   "cell_type": "markdown",
   "id": "5926dd64-5b2f-4795-8c14-c5f41647ced5",
   "metadata": {},
   "source": [
    "Load the raw data from zenodo:"
   ]
  },
  {
   "cell_type": "code",
   "execution_count": 95,
   "id": "455bb8dc-46dc-4910-b947-83333db606ea",
   "metadata": {},
   "outputs": [],
   "source": [
    "zenodo = \"https://zenodo.org/records/XXXXXXXX/files/\"\n",
    "url = zenodo \n",
    "dataset_path = '../../data/' \n",
    "if not exists(dataset_path + 'bpod/'):\n",
    "    os.makedirs(dataset_path + 'bpod/')\n",
    "\n",
    "# Get the behavioural data from zenodo and save it in '.../data/bpod/'\n",
    "for file in files: \n",
    "    if not exists(dataset_path + 'bpod/' + file):\n",
    "        print('Downloading ' + file)\n",
    "        urllib.request.urlretrieve(url, file)\n",
    "\n",
    "# Download the zipped photometry data\n"
   ]
  },
  {
   "cell_type": "code",
   "execution_count": null,
   "id": "86fe42f0-83d7-4bf2-82a1-478ef727d9c6",
   "metadata": {},
   "outputs": [],
   "source": []
  },
  {
   "cell_type": "code",
   "execution_count": 93,
   "id": "dd21ca91-7c9b-4fa7-ba5a-df5094e9246c",
   "metadata": {},
   "outputs": [
    {
     "name": "stdout",
     "output_type": "stream",
     "text": [
      "Processing TS32 20231128 LRO\n",
      "         > df:../../data/TS32/20231128_14_07_12/AI.tdms\n",
      "         > 354 trials in session\n",
      "Processing TS32 20231128 RWN\n",
      "         > df:../../data/TS32/TS32_RWN/20231128_14_54_07/AI.tdms\n",
      "         > 83 trials in session\n",
      "Processing TS33 20231128 LRO\n",
      "         > df:../../data/TS33/20231128_15_08_10/AI.tdms\n",
      "         > 602 trials in session\n",
      "Processing TS33 20231128 RWN\n",
      "         > df:../../data/TS33/TS33_RWN/20231128_16_04_21/AI.tdms\n",
      "         > 95 trials in session\n",
      "Processing TS34 20231128 LRO\n",
      "         > df:../../data/TS34/20231128_16_18_08/AI.tdms\n",
      "         > 462 trials in session\n",
      "Processing TS34 20231128 RWN\n",
      "         > df:../../data/TS34/TS34_RWN/20231128_17_22_06/AI.tdms\n",
      "         > 85 trials in session\n",
      "Job completed.\n"
     ]
    }
   ],
   "source": [
    "dfs, trial_datas = YJ_pp.preprocessData(experiments_to_process)"
   ]
  }
 ],
 "metadata": {
  "kernelspec": {
   "display_name": "Python 3 (ipykernel)",
   "language": "python",
   "name": "python3"
  },
  "language_info": {
   "codemirror_mode": {
    "name": "ipython",
    "version": 3
   },
   "file_extension": ".py",
   "mimetype": "text/x-python",
   "name": "python",
   "nbconvert_exporter": "python",
   "pygments_lexer": "ipython3",
   "version": "3.9.18"
  }
 },
 "nbformat": 4,
 "nbformat_minor": 5
}
