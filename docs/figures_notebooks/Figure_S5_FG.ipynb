{
 "cells": [
  {
   "cell_type": "code",
   "execution_count": 1,
   "id": "27d8761c-efbd-4c31-9d6d-a88d736c7ae9",
   "metadata": {},
   "outputs": [],
   "source": [
    "# This notebook extracts the dopamine signal in response to choice (ipsi- and contralateral movement) and reward in the CoT task\n",
    "# from mice which have been assessed for threat responses previously."
   ]
  },
  {
   "cell_type": "code",
   "execution_count": null,
   "id": "d0970ead-c60e-40e6-a1e8-a6a0a0d3d393",
   "metadata": {},
   "outputs": [],
   "source": [
    "# run this on Colab\n",
    "!rm -rf APE_paper/\n",
    "!git clone https://github.com/HernandoMV/APE_paper.git\n",
    "%cd APE_paper/docs/figures_notebooks\n",
    "!git checkout YvonneJohansson"
   ]
  },
  {
   "cell_type": "code",
   "execution_count": 1,
   "id": "ebc6b3b8-3624-42b3-ad73-825c74cfc2ff",
   "metadata": {},
   "outputs": [],
   "source": [
    "%load_ext autoreload\n",
    "%autoreload 2\n",
    "import pandas as pd\n",
    "import urllib.request\n",
    "from os.path import exists\n",
    "import matplotlib.pylab as plt\n",
    "import numpy as np\n",
    "import pickle\n",
    "from scipy.signal import decimate\n",
    "\n",
    "\n",
    "import warnings\n",
    "warnings.filterwarnings('ignore')"
   ]
  },
  {
   "cell_type": "code",
   "execution_count": 2,
   "id": "ecb595c6-c5c5-49f1-8269-290c414536ee",
   "metadata": {},
   "outputs": [],
   "source": [
    "import sys\n",
    "import os\n",
    "sys.path.insert(1, os.path.dirname(os.path.dirname(os.path.abspath(os.curdir))))\n",
    "from scripts import YJ_analysis_utils as yj_utils\n",
    "from scripts import yj_plotting as yj_plot"
   ]
  },
  {
   "cell_type": "code",
   "execution_count": 3,
   "id": "b3c62721-ef3a-409a-b1a4-83941661d81a",
   "metadata": {},
   "outputs": [
    {
     "name": "stdout",
     "output_type": "stream",
     "text": [
      "DataOverview already in directory\n"
     ]
    }
   ],
   "source": [
    "# Supplementary Figure 4F & 4G:\n",
    "\n",
    "# Get dataset information:\n",
    "dataset_name = 'DataOverview_SF4FG.csv'\n",
    "zenodo = \"https://zenodo.org/records/xxxxxxxxxxx/files/\"\n",
    "url = zenodo + dataset_name\n",
    "dataset_path = '../../data/' + dataset_name\n",
    "\n",
    "if not exists(dataset_path):\n",
    "    print('Downloading data...')\n",
    "    urllib.request.urlretrieve(url, dataset_path)\n",
    "else:\n",
    "    print('DataOverview already in directory')\n",
    "\n",
    "#print(dataset_path)\n",
    "info = pd.read_csv(dataset_path)"
   ]
  },
  {
   "cell_type": "code",
   "execution_count": 4,
   "id": "0e439143-bb91-4a43-957e-7f971160de81",
   "metadata": {},
   "outputs": [
    {
     "data": {
      "text/html": [
       "<div>\n",
       "<style scoped>\n",
       "    .dataframe tbody tr th:only-of-type {\n",
       "        vertical-align: middle;\n",
       "    }\n",
       "\n",
       "    .dataframe tbody tr th {\n",
       "        vertical-align: top;\n",
       "    }\n",
       "\n",
       "    .dataframe thead th {\n",
       "        text-align: right;\n",
       "    }\n",
       "</style>\n",
       "<table border=\"1\" class=\"dataframe\">\n",
       "  <thead>\n",
       "    <tr style=\"text-align: right;\">\n",
       "      <th></th>\n",
       "      <th>Unnamed: 0</th>\n",
       "      <th>AnimalID</th>\n",
       "      <th>Date</th>\n",
       "      <th>fiber_side</th>\n",
       "      <th>protocol1</th>\n",
       "      <th>protocol2</th>\n",
       "    </tr>\n",
       "  </thead>\n",
       "  <tbody>\n",
       "    <tr>\n",
       "      <th>0</th>\n",
       "      <td>1</td>\n",
       "      <td>TS24</td>\n",
       "      <td>20230920</td>\n",
       "      <td>right</td>\n",
       "      <td>SOR</td>\n",
       "      <td>NaN</td>\n",
       "    </tr>\n",
       "    <tr>\n",
       "      <th>1</th>\n",
       "      <td>2</td>\n",
       "      <td>TS26</td>\n",
       "      <td>20230918</td>\n",
       "      <td>right</td>\n",
       "      <td>SOR</td>\n",
       "      <td>NaN</td>\n",
       "    </tr>\n",
       "    <tr>\n",
       "      <th>2</th>\n",
       "      <td>3</td>\n",
       "      <td>TS33</td>\n",
       "      <td>20231102</td>\n",
       "      <td>right</td>\n",
       "      <td>SOR</td>\n",
       "      <td>NaN</td>\n",
       "    </tr>\n",
       "    <tr>\n",
       "      <th>3</th>\n",
       "      <td>4</td>\n",
       "      <td>TS34</td>\n",
       "      <td>20231030</td>\n",
       "      <td>right</td>\n",
       "      <td>SOR</td>\n",
       "      <td>NaN</td>\n",
       "    </tr>\n",
       "  </tbody>\n",
       "</table>\n",
       "</div>"
      ],
      "text/plain": [
       "   Unnamed: 0 AnimalID      Date fiber_side protocol1  protocol2\n",
       "0           1     TS24  20230920      right       SOR        NaN\n",
       "1           2     TS26  20230918      right       SOR        NaN\n",
       "2           3     TS33  20231102      right       SOR        NaN\n",
       "3           4     TS34  20231030      right       SOR        NaN"
      ]
     },
     "execution_count": 4,
     "metadata": {},
     "output_type": "execute_result"
    }
   ],
   "source": [
    "info"
   ]
  },
  {
   "cell_type": "code",
   "execution_count": 5,
   "id": "1f611ff9-3d27-43e4-9876-a9ba4b408d68",
   "metadata": {},
   "outputs": [
    {
     "data": {
      "image/png": "[encoded data removed]",
      "text/plain": [
       "<Figure size 600x300 with 2 Axes>"
      ]
     },
     "metadata": {},
     "output_type": "display_data"
    }
   ],
   "source": [
    "all_group_data = {'choice_contra': [],'choice_ipsi': [], 'reward_correct': []}\n",
    "nr_mice = info.shape[0]\n",
    "\n",
    "for i, mouse in enumerate(info['AnimalID']):\n",
    "    date = str(info['Date'][i])\n",
    "    fiber_side = info['fiber_side'][i]\n",
    "    protocol = '2AC' # please note that only classic CoT trials are considered in this analysis and contralateral SOR trials are excluded.\n",
    "    dataset_names = []\n",
    "    CoT_trial_dataname = mouse + '_' + date + '_restructured_data.pkl'\n",
    "    CoT_photo_dataname = mouse + '_' + date + '_smoothed_signal.npy' \n",
    "    dataset_names.extend([CoT_photo_dataname,CoT_trial_dataname])\n",
    "    url = zenodo + dataset_name\n",
    "    for j, dataset_name in enumerate(dataset_names): \n",
    "        dataset_path = '../../data/' + dataset_name\n",
    "        if not exists(dataset_path):\n",
    "            print('Downloading ' + dataset_name)\n",
    "            urllib.request.urlretrieve(url, dataset_path)\n",
    "        #else:\n",
    "        #   print(dataset_name + ' already in directory')\n",
    "        \n",
    "        if j == 0:\n",
    "            photometry_data = np.load(dataset_path)  \n",
    "        if j == 1:  \n",
    "            trial_data = pd.read_pickle(dataset_path)\n",
    "            session_traces = yj_utils.SessionData(mouse, date, fiber_side, protocol, trial_data, photometry_data)\n",
    "    \n",
    "    alignements = ['choice', 'reward']\n",
    "    for a, alignement in enumerate(alignements):\n",
    "        if alignement == 'choice':\n",
    "            curr_data = session_traces.choice\n",
    "            curr_data_contra_mean = decimate(curr_data.contra_data.mean_trace, 10)\n",
    "            curr_data_contra_time = decimate(curr_data.contra_data.time_points, 10)\n",
    "            all_group_data[alignement + '_contra'].append(curr_data_contra_mean)\n",
    "            curr_data_ipsi_mean = decimate(curr_data.ipsi_data.mean_trace, 10)\n",
    "            curr_data_ipsi_time = decimate(curr_data.ipsi_data.time_points, 10)\n",
    "            all_group_data[alignement + '_ipsi'].append(curr_data_ipsi_mean)\n",
    "            time = curr_data_contra_time\n",
    "            \n",
    "        elif alignement == 'reward':\n",
    "            curr_data = session_traces.reward \n",
    "            # combine correct ipsi and contra:\n",
    "            correct_traces = np.concatenate((curr_data.contra_data.sorted_traces, curr_data.ipsi_data.sorted_traces), axis=0) \n",
    "            curr_data_correct_mean = decimate(np.mean(correct_traces, axis=0), 10)\n",
    "            curr_data_correct_time = decimate(curr_data.contra_data.time_points, 10)\n",
    "            all_group_data[alignement + '_correct'].append(curr_data_correct_mean)\n",
    "\n",
    "figure = yj_plot.plot_SF4FG(all_group_data, time)\n",
    "\n",
    "# uncomment here to save the plot\n",
    "dataset_path = '../../data/'\n",
    "plt.savefig(dataset_path + 'SFig4fg.png',\n",
    "            transparent=True, bbox_inches='tight')"
   ]
  },
  {
   "cell_type": "code",
   "execution_count": null,
   "id": "6643007a-aa45-4f14-bc44-cdebc043cadf",
   "metadata": {},
   "outputs": [],
   "source": []
  }
 ],
 "metadata": {
  "kernelspec": {
   "display_name": "Python 3 (ipykernel)",
   "language": "python",
   "name": "python3"
  },
  "language_info": {
   "codemirror_mode": {
    "name": "ipython",
    "version": 3
   },
   "file_extension": ".py",
   "mimetype": "text/x-python",
   "name": "python",
   "nbconvert_exporter": "python",
   "pygments_lexer": "ipython3",
   "version": "3.9.18"
  }
 },
 "nbformat": 4,
 "nbformat_minor": 5
}
