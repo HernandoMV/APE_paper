{
 "cells": [
  {
   "cell_type": "code",
   "execution_count": 2,
   "id": "0a0160a8-61a0-4d9b-92bb-8cd1e0ed71b2",
   "metadata": {},
   "outputs": [],
   "source": [
    "# This notebook compares the dopamine signal aligned to movement during the CoT task to the\n",
    "# dopamine signal evoked by the same high and low frequency sounds played while the mouse is freely moving."
   ]
  },
  {
   "cell_type": "code",
   "execution_count": 19,
   "id": "3e40afcb-ef99-4802-ae0a-5bbceacd3790",
   "metadata": {},
   "outputs": [
    {
     "name": "stdout",
     "output_type": "stream",
     "text": [
      "The autoreload extension is already loaded. To reload it, use:\n",
      "  %reload_ext autoreload\n"
     ]
    }
   ],
   "source": [
    "%load_ext autoreload\n",
    "%autoreload 2\n",
    "import pandas as pd\n",
    "import urllib.request\n",
    "from os.path import exists\n",
    "import numpy as np\n",
    "import pickle\n",
    "from scipy.signal import decimate\n",
    "\n",
    "import warnings\n",
    "warnings.filterwarnings('ignore')"
   ]
  },
  {
   "cell_type": "code",
   "execution_count": 28,
   "id": "88c23d07-da61-4490-b9de-1b3e4835b6b2",
   "metadata": {},
   "outputs": [],
   "source": [
    "import sys\n",
    "import os\n",
    "sys.path.insert(1, os.path.dirname(os.path.dirname(os.path.abspath(os.curdir))))\n",
    "from scripts import YJ_analysis_utils as yj_utils\n",
    "from scripts import yj_plotting as yj_plot"
   ]
  },
  {
   "cell_type": "code",
   "execution_count": 29,
   "id": "1e0c1c17-8a9c-4ae0-80dc-8ac0dfdb1f9f",
   "metadata": {},
   "outputs": [
    {
     "name": "stdout",
     "output_type": "stream",
     "text": [
      "Downloading data...\n"
     ]
    }
   ],
   "source": [
    "# Supplementary Figure 5T & 5U:\n",
    "\n",
    "# Get dataset information:\n",
    "dataset_name = 'DataOverview_SF5TU.csv'\n",
    "zenodo = \"https://zenodo.org/records/10803926/files/\"\n",
    "url = zenodo + dataset_name\n",
    "\n",
    "#dataset_name = 'DataOverview_SF5TU.csv'\n",
    "dataset_path = '../../data/' + dataset_name\n",
    "\n",
    "if not exists(dataset_path):\n",
    "    print('Downloading data...')\n",
    "    urllib.request.urlretrieve(url, dataset_path)\n",
    "else:\n",
    "    print('DataOverview already in directory')\n",
    "\n",
    "#print(dataset_path)\n",
    "info = pd.read_csv(dataset_path)\n"
   ]
  },
  {
   "cell_type": "code",
   "execution_count": 30,
   "id": "a2748c53-a8c0-4e5d-af85-1609cf0ec66d",
   "metadata": {},
   "outputs": [
    {
     "data": {
      "text/html": [
       "<div>\n",
       "<style scoped>\n",
       "    .dataframe tbody tr th:only-of-type {\n",
       "        vertical-align: middle;\n",
       "    }\n",
       "\n",
       "    .dataframe tbody tr th {\n",
       "        vertical-align: top;\n",
       "    }\n",
       "\n",
       "    .dataframe thead th {\n",
       "        text-align: right;\n",
       "    }\n",
       "</style>\n",
       "<table border=\"1\" class=\"dataframe\">\n",
       "  <thead>\n",
       "    <tr style=\"text-align: right;\">\n",
       "      <th></th>\n",
       "      <th>Unnamed: 0</th>\n",
       "      <th>AnimalID</th>\n",
       "      <th>Date</th>\n",
       "      <th>fiber_side</th>\n",
       "      <th>protocol1</th>\n",
       "      <th>protocol2</th>\n",
       "    </tr>\n",
       "  </thead>\n",
       "  <tbody>\n",
       "    <tr>\n",
       "      <th>0</th>\n",
       "      <td>1</td>\n",
       "      <td>TS3</td>\n",
       "      <td>20230203</td>\n",
       "      <td>right</td>\n",
       "      <td>2AC</td>\n",
       "      <td>RTC</td>\n",
       "    </tr>\n",
       "    <tr>\n",
       "      <th>1</th>\n",
       "      <td>2</td>\n",
       "      <td>TS20</td>\n",
       "      <td>20230512</td>\n",
       "      <td>left</td>\n",
       "      <td>psychometric</td>\n",
       "      <td>RTC</td>\n",
       "    </tr>\n",
       "    <tr>\n",
       "      <th>2</th>\n",
       "      <td>3</td>\n",
       "      <td>TS21</td>\n",
       "      <td>20230510</td>\n",
       "      <td>left</td>\n",
       "      <td>silence</td>\n",
       "      <td>RTC</td>\n",
       "    </tr>\n",
       "    <tr>\n",
       "      <th>3</th>\n",
       "      <td>4</td>\n",
       "      <td>TS26</td>\n",
       "      <td>20230929</td>\n",
       "      <td>right</td>\n",
       "      <td>2AC</td>\n",
       "      <td>RTC</td>\n",
       "    </tr>\n",
       "    <tr>\n",
       "      <th>4</th>\n",
       "      <td>5</td>\n",
       "      <td>TS33</td>\n",
       "      <td>20231106</td>\n",
       "      <td>right</td>\n",
       "      <td>SOR</td>\n",
       "      <td>RTC</td>\n",
       "    </tr>\n",
       "  </tbody>\n",
       "</table>\n",
       "</div>"
      ],
      "text/plain": [
       "   Unnamed: 0 AnimalID      Date fiber_side     protocol1 protocol2\n",
       "0           1      TS3  20230203      right           2AC       RTC\n",
       "1           2     TS20  20230512       left  psychometric       RTC\n",
       "2           3     TS21  20230510       left       silence       RTC\n",
       "3           4     TS26  20230929      right           2AC       RTC\n",
       "4           5     TS33  20231106      right           SOR       RTC"
      ]
     },
     "execution_count": 30,
     "metadata": {},
     "output_type": "execute_result"
    }
   ],
   "source": [
    "info\n"
   ]
  },
  {
   "cell_type": "code",
   "execution_count": 31,
   "id": "b0e7f4c1-cd09-4ac3-bc65-304cded04237",
   "metadata": {},
   "outputs": [
    {
     "name": "stdout",
     "output_type": "stream",
     "text": [
      "Downloading TS3_20230203_smoothed_signal.npy\n",
      "Downloading TS3_20230203_restructured_data.pkl\n",
      "Downloading TS3_20230203_RTC_smoothed_signal.npy\n",
      "Downloading TS3_20230203_RTC_restructured_data.pkl\n",
      "Downloading TS20_20230512_smoothed_signal.npy\n",
      "Downloading TS20_20230512_restructured_data.pkl\n",
      "Downloading TS21_20230510_smoothed_signal.npy\n",
      "Downloading TS21_20230510_restructured_data.pkl\n",
      "Downloading TS21_20230510_RTC_smoothed_signal.npy\n",
      "Downloading TS21_20230510_RTC_restructured_data.pkl\n",
      "Downloading TS26_20230929_smoothed_signal.npy\n",
      "Downloading TS26_20230929_restructured_data.pkl\n",
      "Downloading TS26_20230929_RTC_smoothed_signal.npy\n",
      "Downloading TS26_20230929_RTC_restructured_data.pkl\n",
      "Downloading TS33_20231106_smoothed_signal.npy\n",
      "Downloading TS33_20231106_restructured_data.pkl\n",
      "Downloading TS33_20231106_RTC_smoothed_signal.npy\n",
      "Downloading TS33_20231106_RTC_restructured_data.pkl\n"
     ]
    },
    {
     "data": {
      "image/png": "[encoded data removed]",
      "text/plain": [
       "<Figure size 432x216 with 2 Axes>"
      ]
     },
     "metadata": {
      "needs_background": "light"
     },
     "output_type": "display_data"
    }
   ],
   "source": [
    "# load mouse data from zenodo and run basic analysis of the CoT session\n",
    "\n",
    "x_range = [-2, 3]\n",
    "y_range = [-0.75, 1.5]\n",
    "nr_mice = len(info['AnimalID'].unique())\n",
    "for m, mouse in enumerate(info['AnimalID']):\n",
    "    date = str(info[info['AnimalID']==mouse]['Date'].values[0])\n",
    "    fiber_side = info[info['AnimalID']==mouse]['fiber_side'].values[0]\n",
    "    protocol = info[info['AnimalID']==mouse]['protocol1'].values[0]\n",
    "    dataset_names = []\n",
    "    # CoT session\n",
    "    CoT_trial_data = mouse + '_' + date + '_restructured_data.pkl'\n",
    "    CoT_photo_data = mouse + '_' + date + '_smoothed_signal.npy' \n",
    "    # RTC session \n",
    "    RTC_trial_data = mouse + '_' + date + '_RTC_restructured_data.pkl'\n",
    "    RTC_photo_data = mouse + '_' + date + '_RTC_smoothed_signal.npy' \n",
    "    dataset_names.extend([CoT_photo_data,CoT_trial_data, RTC_photo_data, RTC_trial_data])\n",
    "\n",
    "\n",
    "    for i, dataset_name in enumerate(dataset_names):\n",
    "        url = zenodo + dataset_name\n",
    "        dataset_path = '../../data/' + dataset_name\n",
    "        \n",
    "        if not exists(dataset_path):\n",
    "            print('Downloading ' + dataset_name)\n",
    "            urllib.request.urlretrieve(url, dataset_path)\n",
    "        #else:\n",
    "        #   print(dataset_name + ' already in directory')\n",
    "\n",
    "        \n",
    "        \n",
    "        if i == 0:\n",
    "            photometry_data = np.load(dataset_path)  \n",
    "            \n",
    "        if i == 1:  \n",
    "            trial_data = pd.read_pickle(dataset_path)\n",
    "            session_traces = yj_utils.SessionData(mouse, date, fiber_side, protocol, trial_data, photometry_data)\n",
    "            file_name = mouse + '_' + date + '_aligned_traces.p'\n",
    "            dataset_path = '../../data/' + file_name           \n",
    "            pickle.dump(session_traces, open(dataset_path, \"wb\"))\n",
    "        if i == 2: \n",
    "            RTC_photometry_data = np.load(dataset_path)    \n",
    "            \n",
    "        if i == 3:\n",
    "            RTC_trial_data = pd.read_pickle(dataset_path)\n",
    "            RTC_data = yj_utils.ZScoredTraces_RTC(RTC_trial_data, RTC_photometry_data, x_range)\n",
    "\n",
    "     \n",
    "            if session_traces.protocol == 'SOR':\n",
    "                APE_aligned_data = decimate(session_traces.SOR_choice.contra_data.mean_trace, 10)\n",
    "                APE_time = decimate(session_traces.SOR_choice.contra_data.time_points, 10)\n",
    "                APE_sem_traces = decimate(session_traces.SOR_choice.contra_data.sorted_traces,10)\n",
    "            else:\n",
    "                APE_aligned_data = decimate(session_traces.choice.contra_data.mean_trace, 10)\n",
    "                APE_time = decimate(session_traces.choice.contra_data.time_points,10)\n",
    "                APE_sem_traces = decimate(session_traces.choice.contra_data.sorted_traces,10)\n",
    "            RTC_aligned_data = decimate(RTC_data.mean_trace, 10)\n",
    "            RTC_time = decimate(RTC_data.time_points, 10)\n",
    "\n",
    "            if m == 0:\n",
    "                APE_traces = np.zeros((nr_mice, len(APE_aligned_data)))\n",
    "                RTC_traces = np.zeros((nr_mice, len(RTC_aligned_data)))\n",
    "                APE_sem_traces_upper = np.zeros((nr_mice, len(APE_aligned_data)))\n",
    "                APE_sem_traces_lower = np.zeros((nr_mice, len(APE_aligned_data)))\n",
    "                RTC_sem_traces_upper = np.zeros((nr_mice, len(RTC_aligned_data)))\n",
    "                RTC_sem_traces_lower = np.zeros((nr_mice, len(RTC_aligned_data)))\n",
    "                APE_peak_values = []\n",
    "                RTC_peak_values = []\n",
    "\n",
    "            APE_traces[m,:] = APE_aligned_data\n",
    "            APE_sem_traces_lower[m,:], APE_sem_traces_upper[i,:] = yj_utils.calculate_error_bars(APE_aligned_data, APE_sem_traces,\n",
    "                                                                    error_bar_method='sem')\n",
    "            RTC_traces[m,:] = RTC_aligned_data\n",
    "            RTC_sem_traces = decimate(RTC_data.sorted_traces,10)\n",
    "            RTC_sem_traces_lower[m,:], RTC_sem_traces_upper[m,:] = yj_utils.calculate_error_bars(RTC_aligned_data, RTC_sem_traces,\n",
    "                                                                    error_bar_method='sem')\n",
    "            # get the peak values:   # APE_time: 16000 datapoints, half: 8000 datapoints = time 0, only consider time after 0\n",
    "            start_inx = 8000\n",
    "            APE_range = APE_aligned_data[start_inx:start_inx+8000]\n",
    "            APE_time_range = APE_time[start_inx:start_inx+8000]\n",
    "            RTC_range = RTC_aligned_data[start_inx:start_inx+8000]\n",
    "\n",
    "            APE_peak_index = np.argmax(APE_range) # from time 0 to 8s\n",
    "            APE_peak_time = APE_time_range[APE_peak_index]\n",
    "            APE_peak_value = APE_range[APE_peak_index]\n",
    "            RTC_peak_value = RTC_range[APE_peak_index]\n",
    "            APE_peak_values.append(APE_peak_value)\n",
    "            RTC_peak_values.append(RTC_peak_value)\n",
    "\n",
    "# calculate mean and sem across mice:\n",
    "APE_mean_trace = np.mean(APE_traces, axis=0)\n",
    "RTC_mean_trace = np.mean(RTC_traces, axis=0)\n",
    "APE_sem_trace = np.std(APE_traces, axis=0)/np.sqrt(nr_mice)\n",
    "RTC_sem_trace = np.std(RTC_traces, axis=0)/np.sqrt(nr_mice)\n",
    "\n",
    "figure = yj_plot.plot_SF5TU(APE_mean_trace, RTC_mean_trace, APE_sem_trace, RTC_sem_trace, APE_peak_values, RTC_peak_values, APE_time, RTC_time)\n"
   ]
  },
  {
   "cell_type": "code",
   "execution_count": null,
   "id": "a1314abc-abea-4346-8fe6-3c62f32e79f3",
   "metadata": {},
   "outputs": [],
   "source": []
  }
 ],
 "metadata": {
  "kernelspec": {
   "display_name": "Python 3 (ipykernel)",
   "language": "python",
   "name": "python3"
  },
  "language_info": {
   "codemirror_mode": {
    "name": "ipython",
    "version": 3
   },
   "file_extension": ".py",
   "mimetype": "text/x-python",
   "name": "python",
   "nbconvert_exporter": "python",
   "pygments_lexer": "ipython3",
   "version": "3.9.18"
  }
 },
 "nbformat": 4,
 "nbformat_minor": 5
}
