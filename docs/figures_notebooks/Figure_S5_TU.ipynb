{
 "cells": [
  {
   "cell_type": "code",
   "execution_count": 1,
   "id": "0a0160a8-61a0-4d9b-92bb-8cd1e0ed71b2",
   "metadata": {},
   "outputs": [],
   "source": [
    "# This notebook compares the dopamine signal aligned to movement during the CoT task to the\n",
    "# dopamine signal evoked by the same high and low frequency sounds played while the mouse is freely moving."
   ]
  },
  {
   "cell_type": "code",
   "execution_count": null,
   "id": "44654c5d-d09c-4dd8-91e8-f383ab733d15",
   "metadata": {},
   "outputs": [],
   "source": []
  }
 ],
 "metadata": {
  "kernelspec": {
   "display_name": "Python 3 (ipykernel)",
   "language": "python",
   "name": "python3"
  },
  "language_info": {
   "codemirror_mode": {
    "name": "ipython",
    "version": 3
   },
   "file_extension": ".py",
   "mimetype": "text/x-python",
   "name": "python",
   "nbconvert_exporter": "python",
   "pygments_lexer": "ipython3",
   "version": "3.9.18"
  }
 },
 "nbformat": 4,
 "nbformat_minor": 5
}
