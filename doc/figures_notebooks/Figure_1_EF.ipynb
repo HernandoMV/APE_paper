{
 "cells": [
  {
   "cell_type": "code",
   "execution_count": null,
   "metadata": {},
   "outputs": [],
   "source": [
    "# This notebook performs a statistical analysis on the psychometric performance\n",
    "# of mice under optoinhibition"
   ]
  },
  {
   "cell_type": "code",
   "execution_count": null,
   "metadata": {},
   "outputs": [],
   "source": [
    "# run this on Colab\n",
    "!rm -rf APE_paper/\n",
    "!git clone https://github.com/HernandoMV/APE_paper.git\n",
    "%pip install git+file:///content/APE_paper\n",
    "%cd APE_paper/doc/figures_notebooks"
   ]
  },
  {
   "cell_type": "code",
   "execution_count": 1,
   "metadata": {},
   "outputs": [],
   "source": [
    "%load_ext autoreload\n",
    "%autoreload 2\n",
    "import pandas as pd\n",
    "import numpy as np\n",
    "import matplotlib.pylab as plt\n",
    "\n",
    "from APE_paper.utils import custom_functions as cuf\n",
    "from APE_paper.utils.misc_utils import update_progress\n",
    "from APE_paper.plot import make_figures\n"
   ]
  },
  {
   "cell_type": "code",
   "execution_count": 2,
   "metadata": {},
   "outputs": [],
   "source": [
    "# load the dataset\n",
    "dataset_path = '../../data/Optoinhibition-after-learning_dataframe.csv'\n",
    "oal_df = pd.read_csv(dataset_path, index_col=0)"
   ]
  },
  {
   "cell_type": "markdown",
   "metadata": {},
   "source": [
    "### Generate a dataset of random optostimulation choices\n",
    "#### This is creating picking random choices, and matching trial number per session and difficulty, from trials in which there was no stimulation."
   ]
  },
  {
   "cell_type": "code",
   "execution_count": 3,
   "metadata": {},
   "outputs": [
    {
     "name": "stdout",
     "output_type": "stream",
     "text": [
      "Progress: [####################] 100.0%\n"
     ]
    }
   ],
   "source": [
    "# Generate random optostimulation choices for every session\n",
    "n_times = 1000\n",
    "data = np.empty([len(pd.unique(oal_df['SessionID'])), 3], dtype=object)\n",
    "\n",
    "for i, session in enumerate(pd.unique(oal_df['SessionID'])):\n",
    "    # generate the random dataset, and save it to a general dataframe for later use\n",
    "    session_df = oal_df[oal_df['SessionID'] == session]\n",
    "    roc = cuf.get_random_optolike_choices(df=session_df, n_times=n_times)\n",
    "    _, odf = cuf.splitOpto(session_df)\n",
    "    roc_ds = np.apply_along_axis(cuf.get_choices, 1, roc, trialsDif=odf['Difficulty'])\n",
    "    avail_diffs = roc_ds[0,0,:]\n",
    "    rand_choices_ds = roc_ds[:,1,:]\n",
    "    # fill\n",
    "    data[i] = [session, avail_diffs, rand_choices_ds]\n",
    "    \n",
    "    update_progress(i / len(pd.unique(oal_df['SessionID'])))\n",
    "\n",
    "random_opto_df = pd.DataFrame(data, columns=['SessionID', 'Difficulties', 'Random_choices'])\n",
    "update_progress(1)"
   ]
  },
  {
   "cell_type": "code",
   "execution_count": 4,
   "metadata": {},
   "outputs": [
    {
     "name": "stdout",
     "output_type": "stream",
     "text": [
      "Progress: [####################] 100.0%\n"
     ]
    }
   ],
   "source": [
    "# Calculate the differences between the random choices and the opto ones to measure the bias\n",
    "\n",
    "random_opto_df['bias'] = None\n",
    "random_opto_df['bias_mean'] = None\n",
    "random_opto_df['bias_std'] = None\n",
    "\n",
    "for sc, session in enumerate(pd.unique(random_opto_df['SessionID'])):\n",
    "    session_idx = random_opto_df.index[random_opto_df.SessionID == session].item()\n",
    "    # get data for opto\n",
    "    opto_df = oal_df[(oal_df['SessionID'] == session) & (oal_df['OptoStim']==1)]\n",
    "    trialsDif = np.array(opto_df['TrialHighPerc'])\n",
    "    sideSelected = np.array(opto_df['FirstPoke'])\n",
    "    difficulty, opto_perf = cuf.get_choices(sideSelected, trialsDif)\n",
    "    \n",
    "    # get data for the shuffles\n",
    "    updown_list = np.empty(n_times)\n",
    "    for i in range(n_times):\n",
    "        y_vals = random_opto_df.loc[session_idx].Random_choices[i]\n",
    "        # calculate difference and normalize\n",
    "        updown_list[i] = np.sum(y_vals - opto_perf) / len(difficulty)\n",
    "    \n",
    "    random_opto_df.at[session_idx, 'bias'] = updown_list\n",
    "    random_opto_df.at[session_idx, 'bias_mean'] = np.nanmean(updown_list)\n",
    "    random_opto_df.at[session_idx, 'bias_std'] = np.nanstd(updown_list)\n",
    "    \n",
    "    update_progress((sc + 1) / len(pd.unique(random_opto_df['SessionID'])))"
   ]
  },
  {
   "cell_type": "code",
   "execution_count": 5,
   "metadata": {},
   "outputs": [],
   "source": [
    "# add the side in which stimulation happened, and translate the bias to contralateral / ipsilateral\n",
    "random_opto_df['stimulated_side'] = None\n",
    "random_opto_df['contralateral_bias'] = None\n",
    "\n",
    "for session in pd.unique(random_opto_df['SessionID']):\n",
    "    session_idx = random_opto_df.index[random_opto_df.SessionID == session].item()\n",
    "    # get information\n",
    "    stim_side = oal_df[oal_df['SessionID'] == session].Stimulation.unique().item()    \n",
    "    # add info\n",
    "    random_opto_df.at[session_idx, 'stimulated_side'] = stim_side\n",
    "\n",
    "    # bias is the normal minus the opto. This means that a positive value is a leftwards bias of the opto trials\n",
    "    # this is good as a contralateral bias for the trials in which optostimulation occurs in the right side\n",
    "    # flip the sign of the ones where stimulation happens on the left\n",
    "    if stim_side == 'Right':\n",
    "        random_opto_df.at[session_idx, 'contralateral_bias'] = random_opto_df.at[session_idx, 'bias_mean']\n",
    "    elif stim_side == 'Left':\n",
    "        random_opto_df.at[session_idx, 'contralateral_bias'] = - random_opto_df.at[session_idx, 'bias_mean']\n",
    "    elif stim_side == 'Both':\n",
    "        random_opto_df.at[session_idx, 'contralateral_bias'] = np.nan\n",
    "    else:\n",
    "        print('Something wrong')"
   ]
  },
  {
   "cell_type": "code",
   "execution_count": 6,
   "metadata": {},
   "outputs": [],
   "source": [
    "# Get a column with the mouse name\n",
    "random_opto_df['AnimalID'] = None\n",
    "# And the type of mouse\n",
    "random_opto_df['Genotype'] = None\n",
    "\n",
    "for sc, session in enumerate(pd.unique(random_opto_df['SessionID'])):\n",
    "    session_idx = random_opto_df.index[random_opto_df.SessionID == session].item()    \n",
    "    mouse_name = random_opto_df.loc[session_idx].SessionID.split(' ')[0]\n",
    "    random_opto_df.at[session_idx, 'AnimalID'] = mouse_name\n",
    "    random_opto_df.at[session_idx,'Genotype'] = mouse_name.split('-')[0]"
   ]
  },
  {
   "cell_type": "code",
   "execution_count": null,
   "metadata": {},
   "outputs": [],
   "source": []
  },
  {
   "cell_type": "markdown",
   "metadata": {},
   "source": [
    "#### Generate figure 1F"
   ]
  },
  {
   "cell_type": "code",
   "execution_count": 8,
   "metadata": {},
   "outputs": [
    {
     "data": {
      "image/png": "[encoded data removed]",
      "text/plain": [
       "<Figure size 576x576 with 2 Axes>"
      ]
     },
     "metadata": {
      "needs_background": "light"
     },
     "output_type": "display_data"
    }
   ],
   "source": [
    "fig = make_figures.make_figure_optoinhibition_after_learning_batch(random_opto_df)\n",
    "plt.show(fig)\n",
    "# uncomment here to save the plot\n",
    "# data_directory = ''\n",
    "# plt.savefig(data_directory + 'optoinhibition_after_learning_batch.pdf',\n",
    "#             transparent=True, bbox_inches='tight')"
   ]
  },
  {
   "cell_type": "code",
   "execution_count": null,
   "metadata": {},
   "outputs": [],
   "source": []
  }
 ],
 "metadata": {
  "kernelspec": {
   "display_name": "Python 3.9.12 ('APE_paper')",
   "language": "python",
   "name": "python3"
  },
  "language_info": {
   "codemirror_mode": {
    "name": "ipython",
    "version": 3
   },
   "file_extension": ".py",
   "mimetype": "text/x-python",
   "name": "python",
   "nbconvert_exporter": "python",
   "pygments_lexer": "ipython3",
   "version": "3.9.12"
  },
  "orig_nbformat": 4,
  "vscode": {
   "interpreter": {
    "hash": "2ee272fe26eecc87357a56bca0cf8dd5255900133eec92d0d83e2a7e1aaf1681"
   }
  }
 },
 "nbformat": 4,
 "nbformat_minor": 2
}
