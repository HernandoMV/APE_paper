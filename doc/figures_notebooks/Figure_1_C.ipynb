{
 "cells": [
  {
   "cell_type": "code",
   "execution_count": null,
   "metadata": {},
   "outputs": [],
   "source": [
    "# This notebook compares the psychometric performance of mice on the cloud of tones task,\n",
    "# according to muscimol injections in the tail of the striatum and dorsomedial striatum"
   ]
  },
  {
   "cell_type": "code",
   "execution_count": null,
   "metadata": {},
   "outputs": [],
   "source": [
    "# run this on Colab\n",
    "!rm -rf APE_paper/\n",
    "!git clone https://github.com/HernandoMV/APE_paper.git\n",
    "%pip install git+file:///content/APE_paper\n",
    "%cd APE_paper/doc/figures_notebooks"
   ]
  },
  {
   "cell_type": "code",
   "execution_count": null,
   "metadata": {},
   "outputs": [],
   "source": [
    "%load_ext autoreload\n",
    "%autoreload 2\n",
    "import pandas as pd\n",
    "import matplotlib.pylab as plt\n",
    "from APE_paper.plot import make_figures\n",
    "from APE_paper.utils import custom_functions as cuf\n",
    "from IPython.display import clear_output"
   ]
  },
  {
   "cell_type": "code",
   "execution_count": null,
   "metadata": {},
   "outputs": [],
   "source": [
    "# load the dataset\n",
    "dataset_path = '../../data/Muscimol-injections_dataframe.csv'\n",
    "mus_df = pd.read_csv(dataset_path, index_col=0)"
   ]
  },
  {
   "cell_type": "code",
   "execution_count": null,
   "metadata": {},
   "outputs": [],
   "source": [
    "# see a summary of the dataset\n",
    "fig = make_figures.make_figure_muscimol_sessions_overview(mus_df)\n",
    "plt.show(fig)\n",
    "# uncomment here to save the plot\n",
    "# data_directory = ''\n",
    "# plt.savefig(data_directory + 'Muscimol-sessions-per-mouse.pdf',\n",
    "#             transparent=True, bbox_inches='tight')"
   ]
  },
  {
   "cell_type": "code",
   "execution_count": null,
   "metadata": {},
   "outputs": [],
   "source": [
    "# Analyse the different conditions\n",
    "muscimol_conditions = ['StrTail-bilat-Control', 'StrTail-bilat', 'DMS-bilat']\n",
    "text_for_figure = ['Saline (str tail)', 'Muscimol (str tail)', 'Muscimol (DMS)']\n",
    "PP_array = []\n",
    "for muscond in muscimol_conditions:\n",
    "    # process the psuchometric performance\n",
    "    predictDif, PsyPer, fakePredictions, predictPer, EB = \\\n",
    "    cuf.PP_ProcessExperiment(mus_df[mus_df['Muscimol'] == muscond], 500, error_bars='SessionTime')\n",
    "    # save to array\n",
    "    PP_array.append([predictDif, PsyPer, fakePredictions, predictPer, EB])\n",
    "\n",
    "clear_output()"
   ]
  },
  {
   "cell_type": "markdown",
   "metadata": {},
   "source": [
    "##### The following cell creates **Figures 1 C** from the paper"
   ]
  },
  {
   "cell_type": "code",
   "execution_count": null,
   "metadata": {},
   "outputs": [],
   "source": [
    "# prepare colors\n",
    "colorlist = [(0.24715576, 0.49918708, 0.57655991),\n",
    "             (160/255, 11/255 , 11/255),\n",
    "             (46/255, 122/255 , 11/255)]\n",
    "\n",
    "fig = make_figures.make_figure_muscimol_psychometric(PP_array, text_for_figure, colorlist)\n",
    "plt.show(fig)\n",
    "# uncomment here to save the plot\n",
    "# data_directory = ''\n",
    "# plt.savefig(data_directory + 'Figure1C.pdf',\n",
    "#             transparent=True, bbox_inches='tight')"
   ]
  },
  {
   "cell_type": "code",
   "execution_count": null,
   "metadata": {},
   "outputs": [],
   "source": []
  }
 ],
 "metadata": {
  "kernelspec": {
   "display_name": "Python 3.9.12 ('APE_paper')",
   "language": "python",
   "name": "python3"
  },
  "language_info": {
   "codemirror_mode": {
    "name": "ipython",
    "version": 3
   },
   "file_extension": ".py",
   "mimetype": "text/x-python",
   "name": "python",
   "nbconvert_exporter": "python",
   "pygments_lexer": "ipython3",
   "version": "3.9.12"
  },
  "orig_nbformat": 4,
  "vscode": {
   "interpreter": {
    "hash": "2ee272fe26eecc87357a56bca0cf8dd5255900133eec92d0d83e2a7e1aaf1681"
   }
  }
 },
 "nbformat": 4,
 "nbformat_minor": 2
}
