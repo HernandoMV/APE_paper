{
 "cells": [
  {
   "cell_type": "code",
   "execution_count": null,
   "metadata": {},
   "outputs": [],
   "source": [
    "# This notebook compares the psychometric performance of mice on the cloud of tones task,\n",
    "# according to muscimol injections in the tail of the striatum and dorsomedial striatum"
   ]
  },
  {
   "cell_type": "code",
   "execution_count": null,
   "metadata": {},
   "outputs": [],
   "source": [
    "# run this on Colab\n",
    "!rm -rf APE_paper/\n",
    "!git clone https://github.com/HernandoMV/APE_paper.git\n",
    "%pip install mouse-behavior-analysis-tools\n",
    "%cd APE_paper/doc/figures_notebooks"
   ]
  },
  {
   "cell_type": "code",
   "execution_count": null,
   "metadata": {},
   "outputs": [],
   "source": [
    "%load_ext autoreload\n",
    "%autoreload 2\n",
    "import pandas as pd\n",
    "import matplotlib.pylab as plt\n",
    "import urllib.request\n",
    "from os.path import exists\n",
    "\n",
    "from mouse_behavior_analysis_tools.plot import make_figures\n",
    "from mouse_behavior_analysis_tools.utils import custom_functions as cuf\n",
    "from IPython.display import clear_output"
   ]
  },
  {
   "cell_type": "code",
   "execution_count": null,
   "metadata": {},
   "outputs": [],
   "source": [
    "# download data from server\n",
    "dataset_name = 'Muscimol-injections_dataframe.csv'\n",
    "url = \"https://zenodo.org/record/7261639/files/\" + dataset_name\n",
    "dataset_path = '../../data/' + dataset_name\n",
    "# download if data is not there\n",
    "if not exists(dataset_path):\n",
    "    print('Downloading data...')\n",
    "    urllib.request.urlretrieve(url, dataset_path)\n",
    "else:\n",
    "    print('Data already in directory')\n",
    "# load\n",
    "mus_df = pd.read_csv(dataset_path, index_col=0)"
   ]
  },
  {
   "cell_type": "code",
   "execution_count": null,
   "metadata": {},
   "outputs": [],
   "source": [
    "# see a summary of the dataset\n",
    "fig = make_figures.make_figure_muscimol_sessions_overview(mus_df)\n",
    "plt.show(fig)\n",
    "# uncomment here to save the plot\n",
    "# data_directory = ''\n",
    "# plt.savefig(data_directory + 'Muscimol-sessions-per-mouse.pdf',\n",
    "#             transparent=True, bbox_inches='tight')"
   ]
  },
  {
   "cell_type": "code",
   "execution_count": null,
   "metadata": {},
   "outputs": [],
   "source": [
    "# Analyse the different conditions\n",
    "muscimol_conditions = ['StrTail-bilat-Control', 'StrTail-bilat', 'DMS-bilat']\n",
    "text_for_figure = ['Saline (str tail)', 'Muscimol (str tail)', 'Muscimol (DMS)']\n",
    "PP_array = []\n",
    "for muscond in muscimol_conditions:\n",
    "    # process the psuchometric performance\n",
    "    predictDif, PsyPer, fakePredictions, predictPer, EB = \\\n",
    "    cuf.PP_ProcessExperiment(mus_df[mus_df['Muscimol'] == muscond], 500, error_bars='SessionTime')\n",
    "    # save to array\n",
    "    PP_array.append([predictDif, PsyPer, fakePredictions, predictPer, EB])\n",
    "\n",
    "clear_output()"
   ]
  },
  {
   "cell_type": "markdown",
   "metadata": {},
   "source": [
    "##### The following cell creates **Figures 1 C** from the paper"
   ]
  },
  {
   "cell_type": "code",
   "execution_count": null,
   "metadata": {},
   "outputs": [],
   "source": [
    "# prepare colors\n",
    "colorlist = [(0.24715576, 0.49918708, 0.57655991),\n",
    "             (160/255, 11/255 , 11/255),\n",
    "             (46/255, 122/255 , 11/255)]\n",
    "\n",
    "fig = make_figures.make_figure_muscimol_psychometric(PP_array, text_for_figure, colorlist)\n",
    "plt.show(fig)\n",
    "# uncomment here to save the plot\n",
    "# data_directory = ''\n",
    "# plt.savefig(data_directory + 'Figure1C.pdf',\n",
    "#             transparent=True, bbox_inches='tight')"
   ]
  }
 ],
 "metadata": {
  "kernelspec": {
   "display_name": "Python 3.9.12 ('APE_paper')",
   "language": "python",
   "name": "python3"
  },
  "language_info": {
   "codemirror_mode": {
    "name": "ipython",
    "version": 3
   },
   "file_extension": ".py",
   "mimetype": "text/x-python",
   "name": "python",
   "nbconvert_exporter": "python",
   "pygments_lexer": "ipython3",
   "version": "3.9.12 (main, Jun  1 2022, 11:38:51) \n[GCC 7.5.0]"
  },
  "orig_nbformat": 4,
  "vscode": {
   "interpreter": {
    "hash": "f006ea33296acaa891f06df4ed84a6fab13e5962ecce3e8cee62d828a97edc55"
   }
  }
 },
 "nbformat": 4,
 "nbformat_minor": 2
}
